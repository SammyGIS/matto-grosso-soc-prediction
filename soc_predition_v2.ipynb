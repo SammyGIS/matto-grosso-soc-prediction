{
 "cells": [
  {
   "cell_type": "code",
   "execution_count": 1,
   "metadata": {
    "id": "TEhnjpdMNOJi"
   },
   "outputs": [],
   "source": [
    "# import subprocess\n",
    "\n",
    "# packages = ['geemap', 'geopandas',\n",
    "#             'shapely', 'requests', \n",
    "#             'osgeo', 'rasterio', 'numpy',\n",
    "#             'sklearn', 'fiona', 'pyproj',\n",
    "#             'matplotlib', 'pandas',\n",
    "#             'seaborn','geocube', 'os']\n",
    "\n",
    "# for package in packages:\n",
    "#     try:\n",
    "#         __import__(package)\n",
    "#     except ImportError:\n",
    "#         subprocess.check_call(['pip', 'install', package])"
   ]
  },
  {
   "cell_type": "code",
   "execution_count": 2,
   "metadata": {},
   "outputs": [
    {
     "name": "stderr",
     "output_type": "stream",
     "text": [
      "D:\\NBS_work\\NBS_Data_Validation\\env\\lib\\site-packages\\geopandas\\_compat.py:115: UserWarning: The Shapely GEOS version (3.10.1-CAPI-1.16.0) is incompatible with the GEOS version PyGEOS was compiled with (3.10.4-CAPI-1.16.2). Conversions between both will be slow.\n",
      "  shapely_geos_version, geos_capi_version_string\n"
     ]
    }
   ],
   "source": [
    "import pandas as pd\n",
    "import numpy as np\n",
    "import geopandas as gpd\n",
    "import matplotlib.pyplot as plt\n",
    "import seaborn as sns\n",
    "import sklearn\n",
    "import os\n",
    "import fiona"
   ]
  },
  {
   "cell_type": "code",
   "execution_count": 3,
   "metadata": {},
   "outputs": [],
   "source": [
    "# specified the UTM crs for the Area of Intrest (AOI)\n",
    "projected_crs = 32721"
   ]
  },
  {
   "cell_type": "code",
   "execution_count": 4,
   "metadata": {},
   "outputs": [
    {
     "data": {
      "text/html": [
       "<div>\n",
       "<style scoped>\n",
       "    .dataframe tbody tr th:only-of-type {\n",
       "        vertical-align: middle;\n",
       "    }\n",
       "\n",
       "    .dataframe tbody tr th {\n",
       "        vertical-align: top;\n",
       "    }\n",
       "\n",
       "    .dataframe thead th {\n",
       "        text-align: right;\n",
       "    }\n",
       "</style>\n",
       "<table border=\"1\" class=\"dataframe\">\n",
       "  <thead>\n",
       "    <tr style=\"text-align: right;\">\n",
       "      <th></th>\n",
       "      <th>ID</th>\n",
       "      <th>SOC_t_ha</th>\n",
       "      <th>Slope</th>\n",
       "      <th>Rainfall</th>\n",
       "      <th>NDVI</th>\n",
       "      <th>landuse</th>\n",
       "      <th>elevation</th>\n",
       "      <th>BSI</th>\n",
       "      <th>LST</th>\n",
       "      <th>Estimated</th>\n",
       "      <th>geometry</th>\n",
       "    </tr>\n",
       "  </thead>\n",
       "  <tbody>\n",
       "    <tr>\n",
       "      <th>0</th>\n",
       "      <td>0</td>\n",
       "      <td>117.179</td>\n",
       "      <td>2.5858</td>\n",
       "      <td>4.21154</td>\n",
       "      <td>0.52545</td>\n",
       "      <td>30.0</td>\n",
       "      <td>468.0</td>\n",
       "      <td>0.028501</td>\n",
       "      <td>298.908</td>\n",
       "      <td>118.595358</td>\n",
       "      <td>POINT (-52.80306 -14.51194)</td>\n",
       "    </tr>\n",
       "    <tr>\n",
       "      <th>1</th>\n",
       "      <td>1</td>\n",
       "      <td>117.179</td>\n",
       "      <td>2.5858</td>\n",
       "      <td>4.21154</td>\n",
       "      <td>0.52545</td>\n",
       "      <td>30.0</td>\n",
       "      <td>468.0</td>\n",
       "      <td>0.028501</td>\n",
       "      <td>298.908</td>\n",
       "      <td>118.595358</td>\n",
       "      <td>POINT (-52.80306 -14.51194)</td>\n",
       "    </tr>\n",
       "    <tr>\n",
       "      <th>2</th>\n",
       "      <td>2</td>\n",
       "      <td>117.179</td>\n",
       "      <td>2.5858</td>\n",
       "      <td>4.21154</td>\n",
       "      <td>0.52545</td>\n",
       "      <td>30.0</td>\n",
       "      <td>468.0</td>\n",
       "      <td>0.028501</td>\n",
       "      <td>298.908</td>\n",
       "      <td>118.595358</td>\n",
       "      <td>POINT (-52.80306 -14.51194)</td>\n",
       "    </tr>\n",
       "    <tr>\n",
       "      <th>3</th>\n",
       "      <td>3</td>\n",
       "      <td>117.179</td>\n",
       "      <td>2.5858</td>\n",
       "      <td>4.21154</td>\n",
       "      <td>0.52545</td>\n",
       "      <td>30.0</td>\n",
       "      <td>468.0</td>\n",
       "      <td>0.028501</td>\n",
       "      <td>298.908</td>\n",
       "      <td>118.595358</td>\n",
       "      <td>POINT (-52.80306 -14.51194)</td>\n",
       "    </tr>\n",
       "    <tr>\n",
       "      <th>4</th>\n",
       "      <td>4</td>\n",
       "      <td>117.179</td>\n",
       "      <td>2.5858</td>\n",
       "      <td>4.21154</td>\n",
       "      <td>0.52545</td>\n",
       "      <td>30.0</td>\n",
       "      <td>468.0</td>\n",
       "      <td>0.028501</td>\n",
       "      <td>298.908</td>\n",
       "      <td>118.595358</td>\n",
       "      <td>POINT (-52.80306 -14.51194)</td>\n",
       "    </tr>\n",
       "  </tbody>\n",
       "</table>\n",
       "</div>"
      ],
      "text/plain": [
       "   ID  SOC_t_ha   Slope  Rainfall     NDVI  landuse  elevation       BSI  \\\n",
       "0   0   117.179  2.5858   4.21154  0.52545     30.0      468.0  0.028501   \n",
       "1   1   117.179  2.5858   4.21154  0.52545     30.0      468.0  0.028501   \n",
       "2   2   117.179  2.5858   4.21154  0.52545     30.0      468.0  0.028501   \n",
       "3   3   117.179  2.5858   4.21154  0.52545     30.0      468.0  0.028501   \n",
       "4   4   117.179  2.5858   4.21154  0.52545     30.0      468.0  0.028501   \n",
       "\n",
       "       LST   Estimated                     geometry  \n",
       "0  298.908  118.595358  POINT (-52.80306 -14.51194)  \n",
       "1  298.908  118.595358  POINT (-52.80306 -14.51194)  \n",
       "2  298.908  118.595358  POINT (-52.80306 -14.51194)  \n",
       "3  298.908  118.595358  POINT (-52.80306 -14.51194)  \n",
       "4  298.908  118.595358  POINT (-52.80306 -14.51194)  "
      ]
     },
     "execution_count": 4,
     "metadata": {},
     "output_type": "execute_result"
    }
   ],
   "source": [
    "# load the sampling points set data\n",
    "sampling_points = gpd.read_file('matto_grosso_data/sampling_points.shp')\n",
    "sampling_points.rename(columns={'Average':'LST'},inplace=True)\n",
    "sampling_points.head()"
   ]
  },
  {
   "cell_type": "code",
   "execution_count": 5,
   "metadata": {},
   "outputs": [
    {
     "name": "stdout",
     "output_type": "stream",
     "text": [
      "<class 'geopandas.geodataframe.GeoDataFrame'>\n",
      "RangeIndex: 2607 entries, 0 to 2606\n",
      "Data columns (total 11 columns):\n",
      " #   Column     Non-Null Count  Dtype   \n",
      "---  ------     --------------  -----   \n",
      " 0   ID         2607 non-null   int64   \n",
      " 1   SOC_t_ha   2607 non-null   float64 \n",
      " 2   Slope      2607 non-null   float64 \n",
      " 3   Rainfall   2607 non-null   float64 \n",
      " 4   NDVI       2607 non-null   float64 \n",
      " 5   landuse    2607 non-null   float64 \n",
      " 6   elevation  2607 non-null   float64 \n",
      " 7   BSI        2607 non-null   float64 \n",
      " 8   LST        2607 non-null   float64 \n",
      " 9   Estimated  2607 non-null   float64 \n",
      " 10  geometry   2607 non-null   geometry\n",
      "dtypes: float64(9), geometry(1), int64(1)\n",
      "memory usage: 224.2 KB\n"
     ]
    }
   ],
   "source": [
    "sampling_points.info()"
   ]
  },
  {
   "cell_type": "code",
   "execution_count": 6,
   "metadata": {},
   "outputs": [
    {
     "data": {
      "text/html": [
       "<div>\n",
       "<style scoped>\n",
       "    .dataframe tbody tr th:only-of-type {\n",
       "        vertical-align: middle;\n",
       "    }\n",
       "\n",
       "    .dataframe tbody tr th {\n",
       "        vertical-align: top;\n",
       "    }\n",
       "\n",
       "    .dataframe thead th {\n",
       "        text-align: right;\n",
       "    }\n",
       "</style>\n",
       "<table border=\"1\" class=\"dataframe\">\n",
       "  <thead>\n",
       "    <tr style=\"text-align: right;\">\n",
       "      <th></th>\n",
       "      <th>ID</th>\n",
       "      <th>SOC_t_ha</th>\n",
       "      <th>Slope</th>\n",
       "      <th>Rainfall</th>\n",
       "      <th>NDVI</th>\n",
       "      <th>landuse</th>\n",
       "      <th>elevation</th>\n",
       "      <th>BSI</th>\n",
       "      <th>LST</th>\n",
       "      <th>Estimated</th>\n",
       "    </tr>\n",
       "  </thead>\n",
       "  <tbody>\n",
       "    <tr>\n",
       "      <th>count</th>\n",
       "      <td>2607.0000</td>\n",
       "      <td>2607.000000</td>\n",
       "      <td>2607.000000</td>\n",
       "      <td>2607.000000</td>\n",
       "      <td>2607.000000</td>\n",
       "      <td>2607.000000</td>\n",
       "      <td>2607.000000</td>\n",
       "      <td>2607.000000</td>\n",
       "      <td>2607.000000</td>\n",
       "      <td>2607.000000</td>\n",
       "    </tr>\n",
       "    <tr>\n",
       "      <th>mean</th>\n",
       "      <td>1303.0000</td>\n",
       "      <td>100.741414</td>\n",
       "      <td>-121.705257</td>\n",
       "      <td>-544.418788</td>\n",
       "      <td>-574.737970</td>\n",
       "      <td>24.157643</td>\n",
       "      <td>303.430074</td>\n",
       "      <td>-575.384711</td>\n",
       "      <td>-264.476784</td>\n",
       "      <td>100.741413</td>\n",
       "    </tr>\n",
       "    <tr>\n",
       "      <th>std</th>\n",
       "      <td>752.7204</td>\n",
       "      <td>28.475149</td>\n",
       "      <td>1101.305969</td>\n",
       "      <td>2278.102856</td>\n",
       "      <td>2329.022665</td>\n",
       "      <td>17.275090</td>\n",
       "      <td>134.349149</td>\n",
       "      <td>2328.862836</td>\n",
       "      <td>2345.559706</td>\n",
       "      <td>23.962636</td>\n",
       "    </tr>\n",
       "    <tr>\n",
       "      <th>min</th>\n",
       "      <td>0.0000</td>\n",
       "      <td>0.000000</td>\n",
       "      <td>-9999.000000</td>\n",
       "      <td>-9999.000000</td>\n",
       "      <td>-9999.000000</td>\n",
       "      <td>10.000000</td>\n",
       "      <td>97.000000</td>\n",
       "      <td>-9999.000000</td>\n",
       "      <td>-9999.000000</td>\n",
       "      <td>13.046369</td>\n",
       "    </tr>\n",
       "    <tr>\n",
       "      <th>25%</th>\n",
       "      <td>651.5000</td>\n",
       "      <td>87.181000</td>\n",
       "      <td>0.317715</td>\n",
       "      <td>2.980180</td>\n",
       "      <td>0.466668</td>\n",
       "      <td>10.000000</td>\n",
       "      <td>211.000000</td>\n",
       "      <td>-0.281724</td>\n",
       "      <td>296.350000</td>\n",
       "      <td>93.399354</td>\n",
       "    </tr>\n",
       "    <tr>\n",
       "      <th>50%</th>\n",
       "      <td>1303.0000</td>\n",
       "      <td>106.773000</td>\n",
       "      <td>0.696692</td>\n",
       "      <td>4.008360</td>\n",
       "      <td>0.595030</td>\n",
       "      <td>29.353800</td>\n",
       "      <td>278.868000</td>\n",
       "      <td>-0.059573</td>\n",
       "      <td>299.970000</td>\n",
       "      <td>106.025456</td>\n",
       "    </tr>\n",
       "    <tr>\n",
       "      <th>75%</th>\n",
       "      <td>1954.5000</td>\n",
       "      <td>116.067000</td>\n",
       "      <td>1.200845</td>\n",
       "      <td>5.398480</td>\n",
       "      <td>0.753062</td>\n",
       "      <td>30.000000</td>\n",
       "      <td>370.000000</td>\n",
       "      <td>0.065715</td>\n",
       "      <td>303.728000</td>\n",
       "      <td>114.536166</td>\n",
       "    </tr>\n",
       "    <tr>\n",
       "      <th>max</th>\n",
       "      <td>2606.0000</td>\n",
       "      <td>186.116000</td>\n",
       "      <td>15.156300</td>\n",
       "      <td>6.427360</td>\n",
       "      <td>0.884135</td>\n",
       "      <td>90.000000</td>\n",
       "      <td>864.000000</td>\n",
       "      <td>0.272422</td>\n",
       "      <td>314.075556</td>\n",
       "      <td>143.890290</td>\n",
       "    </tr>\n",
       "  </tbody>\n",
       "</table>\n",
       "</div>"
      ],
      "text/plain": [
       "              ID     SOC_t_ha        Slope     Rainfall         NDVI  \\\n",
       "count  2607.0000  2607.000000  2607.000000  2607.000000  2607.000000   \n",
       "mean   1303.0000   100.741414  -121.705257  -544.418788  -574.737970   \n",
       "std     752.7204    28.475149  1101.305969  2278.102856  2329.022665   \n",
       "min       0.0000     0.000000 -9999.000000 -9999.000000 -9999.000000   \n",
       "25%     651.5000    87.181000     0.317715     2.980180     0.466668   \n",
       "50%    1303.0000   106.773000     0.696692     4.008360     0.595030   \n",
       "75%    1954.5000   116.067000     1.200845     5.398480     0.753062   \n",
       "max    2606.0000   186.116000    15.156300     6.427360     0.884135   \n",
       "\n",
       "           landuse    elevation          BSI          LST    Estimated  \n",
       "count  2607.000000  2607.000000  2607.000000  2607.000000  2607.000000  \n",
       "mean     24.157643   303.430074  -575.384711  -264.476784   100.741413  \n",
       "std      17.275090   134.349149  2328.862836  2345.559706    23.962636  \n",
       "min      10.000000    97.000000 -9999.000000 -9999.000000    13.046369  \n",
       "25%      10.000000   211.000000    -0.281724   296.350000    93.399354  \n",
       "50%      29.353800   278.868000    -0.059573   299.970000   106.025456  \n",
       "75%      30.000000   370.000000     0.065715   303.728000   114.536166  \n",
       "max      90.000000   864.000000     0.272422   314.075556   143.890290  "
      ]
     },
     "execution_count": 6,
     "metadata": {},
     "output_type": "execute_result"
    }
   ],
   "source": [
    "sampling_points.describe()"
   ]
  },
  {
   "cell_type": "code",
   "execution_count": 7,
   "metadata": {
    "colab": {
     "base_uri": "https://localhost:8080/"
    },
    "id": "8v9FcrcQIDiK",
    "outputId": "524c8570-ccf1-4115-d650-af93ced37109"
   },
   "outputs": [
    {
     "data": {
      "text/html": [
       "<div>\n",
       "<style scoped>\n",
       "    .dataframe tbody tr th:only-of-type {\n",
       "        vertical-align: middle;\n",
       "    }\n",
       "\n",
       "    .dataframe tbody tr th {\n",
       "        vertical-align: top;\n",
       "    }\n",
       "\n",
       "    .dataframe thead th {\n",
       "        text-align: right;\n",
       "    }\n",
       "</style>\n",
       "<table border=\"1\" class=\"dataframe\">\n",
       "  <thead>\n",
       "    <tr style=\"text-align: right;\">\n",
       "      <th></th>\n",
       "      <th>ID_0</th>\n",
       "      <th>ISO</th>\n",
       "      <th>NAME_0</th>\n",
       "      <th>ID_1</th>\n",
       "      <th>NAME_1</th>\n",
       "      <th>TYPE_1</th>\n",
       "      <th>ENGTYPE_1</th>\n",
       "      <th>NL_NAME_1</th>\n",
       "      <th>VARNAME_1</th>\n",
       "      <th>geometry</th>\n",
       "    </tr>\n",
       "  </thead>\n",
       "  <tbody>\n",
       "    <tr>\n",
       "      <th>0</th>\n",
       "      <td>33</td>\n",
       "      <td>BRA</td>\n",
       "      <td>Brazil</td>\n",
       "      <td>12</td>\n",
       "      <td>MT</td>\n",
       "      <td>Estado</td>\n",
       "      <td>State</td>\n",
       "      <td>None</td>\n",
       "      <td>Matto Grosso</td>\n",
       "      <td>POLYGON ((-57.60524 -8.66285, -57.59355 -8.707...</td>\n",
       "    </tr>\n",
       "  </tbody>\n",
       "</table>\n",
       "</div>"
      ],
      "text/plain": [
       "   ID_0  ISO  NAME_0  ID_1 NAME_1  TYPE_1 ENGTYPE_1 NL_NAME_1     VARNAME_1  \\\n",
       "0    33  BRA  Brazil    12     MT  Estado     State      None  Matto Grosso   \n",
       "\n",
       "                                            geometry  \n",
       "0  POLYGON ((-57.60524 -8.66285, -57.59355 -8.707...  "
      ]
     },
     "execution_count": 7,
     "metadata": {},
     "output_type": "execute_result"
    }
   ],
   "source": [
    "# load the boundary shapefile for Area of Intrest (AOI)\n",
    "study_area = gpd.read_file('matto_grosso_data/Matto_Grosso.shp')\n",
    "study_area.head()"
   ]
  },
  {
   "cell_type": "code",
   "execution_count": 8,
   "metadata": {},
   "outputs": [
    {
     "data": {
      "image/png": "[encoded data removed]",
      "text/plain": [
       "<Figure size 720x864 with 1 Axes>"
      ]
     },
     "metadata": {
      "needs_background": "light"
     },
     "output_type": "display_data"
    }
   ],
   "source": [
    "fig = plt.figure(figsize=(10, 12))\n",
    "ax = fig.add_subplot(1, 1, 1)\n",
    "ax = study_area.plot(ax=ax, linewidth=2, color='white', edgecolor='0.8')\n",
    "sampling_points.plot(ax=ax, markersize=5, color='green');"
   ]
  },
  {
   "cell_type": "code",
   "execution_count": 9,
   "metadata": {},
   "outputs": [
    {
     "name": "stdout",
     "output_type": "stream",
     "text": [
      "epsg:4326\n",
      "epsg:4326\n"
     ]
    },
    {
     "data": {
      "text/plain": [
       "(None, None)"
      ]
     },
     "execution_count": 9,
     "metadata": {},
     "output_type": "execute_result"
    }
   ],
   "source": [
    "# print the data crs\n",
    "print(sampling_points.crs), print(study_area.crs)"
   ]
  },
  {
   "cell_type": "markdown",
   "metadata": {
    "id": "oSKE22X22JIq"
   },
   "source": [
    "Reproject all data to the projected crs"
   ]
  },
  {
   "cell_type": "code",
   "execution_count": 10,
   "metadata": {},
   "outputs": [
    {
     "name": "stdout",
     "output_type": "stream",
     "text": [
      "epsg:32721\n"
     ]
    }
   ],
   "source": [
    "#reproject th bounday shapefile\n",
    "pro_boundary = study_area.to_crs(epsg=projected_crs)\n",
    "print(pro_boundary.crs)"
   ]
  },
  {
   "cell_type": "code",
   "execution_count": 11,
   "metadata": {},
   "outputs": [
    {
     "name": "stdout",
     "output_type": "stream",
     "text": [
      "epsg:32721\n"
     ]
    }
   ],
   "source": [
    "#reproject the sampling points shapefiles\n",
    "pro_sampling_points = sampling_points.to_crs(epsg=projected_crs)\n",
    "print(pro_sampling_points.crs)"
   ]
  },
  {
   "cell_type": "code",
   "execution_count": 12,
   "metadata": {},
   "outputs": [
    {
     "data": {
      "image/png": "[encoded data removed]",
      "text/plain": [
       "<Figure size 720x864 with 1 Axes>"
      ]
     },
     "metadata": {
      "needs_background": "light"
     },
     "output_type": "display_data"
    }
   ],
   "source": [
    "#plot reprojected raster\n",
    "fig = plt.figure(figsize=(10, 12))\n",
    "ax = fig.add_subplot(1, 1, 1)\n",
    "ax = pro_boundary.plot(ax=ax, linewidth=2, color='white', edgecolor='0.8')\n",
    "pro_sampling_points.plot(ax=ax, markersize=5, color='green');"
   ]
  },
  {
   "cell_type": "markdown",
   "metadata": {
    "id": "2BvOFp7bIDja"
   },
   "source": [
    "### Exploratory Data Analysis"
   ]
  },
  {
   "cell_type": "markdown",
   "metadata": {
    "id": "LA-zxvDVEszE"
   },
   "source": [
    "Now lets explore our dataset, we will check for missing value, plor our data and also check the correlation between the dataset"
   ]
  },
  {
   "cell_type": "code",
   "execution_count": 13,
   "metadata": {
    "colab": {
     "base_uri": "https://localhost:8080/",
     "height": 206
    },
    "id": "sXWovgrdIDjb",
    "outputId": "e4ae9a9a-4849-4603-8242-8be7a8608d87"
   },
   "outputs": [
    {
     "data": {
      "text/html": [
       "<div>\n",
       "<style scoped>\n",
       "    .dataframe tbody tr th:only-of-type {\n",
       "        vertical-align: middle;\n",
       "    }\n",
       "\n",
       "    .dataframe tbody tr th {\n",
       "        vertical-align: top;\n",
       "    }\n",
       "\n",
       "    .dataframe thead th {\n",
       "        text-align: right;\n",
       "    }\n",
       "</style>\n",
       "<table border=\"1\" class=\"dataframe\">\n",
       "  <thead>\n",
       "    <tr style=\"text-align: right;\">\n",
       "      <th></th>\n",
       "      <th>ID</th>\n",
       "      <th>SOC_t_ha</th>\n",
       "      <th>Slope</th>\n",
       "      <th>Rainfall</th>\n",
       "      <th>NDVI</th>\n",
       "      <th>landuse</th>\n",
       "      <th>elevation</th>\n",
       "      <th>BSI</th>\n",
       "      <th>LST</th>\n",
       "      <th>Estimated</th>\n",
       "      <th>geometry</th>\n",
       "    </tr>\n",
       "  </thead>\n",
       "  <tbody>\n",
       "    <tr>\n",
       "      <th>0</th>\n",
       "      <td>0</td>\n",
       "      <td>117.179</td>\n",
       "      <td>2.5858</td>\n",
       "      <td>4.21154</td>\n",
       "      <td>0.52545</td>\n",
       "      <td>30.0</td>\n",
       "      <td>468.0</td>\n",
       "      <td>0.028501</td>\n",
       "      <td>298.908</td>\n",
       "      <td>118.595358</td>\n",
       "      <td>POINT (-52.80306 -14.51194)</td>\n",
       "    </tr>\n",
       "    <tr>\n",
       "      <th>1</th>\n",
       "      <td>1</td>\n",
       "      <td>117.179</td>\n",
       "      <td>2.5858</td>\n",
       "      <td>4.21154</td>\n",
       "      <td>0.52545</td>\n",
       "      <td>30.0</td>\n",
       "      <td>468.0</td>\n",
       "      <td>0.028501</td>\n",
       "      <td>298.908</td>\n",
       "      <td>118.595358</td>\n",
       "      <td>POINT (-52.80306 -14.51194)</td>\n",
       "    </tr>\n",
       "    <tr>\n",
       "      <th>2</th>\n",
       "      <td>2</td>\n",
       "      <td>117.179</td>\n",
       "      <td>2.5858</td>\n",
       "      <td>4.21154</td>\n",
       "      <td>0.52545</td>\n",
       "      <td>30.0</td>\n",
       "      <td>468.0</td>\n",
       "      <td>0.028501</td>\n",
       "      <td>298.908</td>\n",
       "      <td>118.595358</td>\n",
       "      <td>POINT (-52.80306 -14.51194)</td>\n",
       "    </tr>\n",
       "    <tr>\n",
       "      <th>3</th>\n",
       "      <td>3</td>\n",
       "      <td>117.179</td>\n",
       "      <td>2.5858</td>\n",
       "      <td>4.21154</td>\n",
       "      <td>0.52545</td>\n",
       "      <td>30.0</td>\n",
       "      <td>468.0</td>\n",
       "      <td>0.028501</td>\n",
       "      <td>298.908</td>\n",
       "      <td>118.595358</td>\n",
       "      <td>POINT (-52.80306 -14.51194)</td>\n",
       "    </tr>\n",
       "    <tr>\n",
       "      <th>4</th>\n",
       "      <td>4</td>\n",
       "      <td>117.179</td>\n",
       "      <td>2.5858</td>\n",
       "      <td>4.21154</td>\n",
       "      <td>0.52545</td>\n",
       "      <td>30.0</td>\n",
       "      <td>468.0</td>\n",
       "      <td>0.028501</td>\n",
       "      <td>298.908</td>\n",
       "      <td>118.595358</td>\n",
       "      <td>POINT (-52.80306 -14.51194)</td>\n",
       "    </tr>\n",
       "  </tbody>\n",
       "</table>\n",
       "</div>"
      ],
      "text/plain": [
       "   ID  SOC_t_ha   Slope  Rainfall     NDVI  landuse  elevation       BSI  \\\n",
       "0   0   117.179  2.5858   4.21154  0.52545     30.0      468.0  0.028501   \n",
       "1   1   117.179  2.5858   4.21154  0.52545     30.0      468.0  0.028501   \n",
       "2   2   117.179  2.5858   4.21154  0.52545     30.0      468.0  0.028501   \n",
       "3   3   117.179  2.5858   4.21154  0.52545     30.0      468.0  0.028501   \n",
       "4   4   117.179  2.5858   4.21154  0.52545     30.0      468.0  0.028501   \n",
       "\n",
       "       LST   Estimated                     geometry  \n",
       "0  298.908  118.595358  POINT (-52.80306 -14.51194)  \n",
       "1  298.908  118.595358  POINT (-52.80306 -14.51194)  \n",
       "2  298.908  118.595358  POINT (-52.80306 -14.51194)  \n",
       "3  298.908  118.595358  POINT (-52.80306 -14.51194)  \n",
       "4  298.908  118.595358  POINT (-52.80306 -14.51194)  "
      ]
     },
     "execution_count": 13,
     "metadata": {},
     "output_type": "execute_result"
    }
   ],
   "source": [
    "# read the dataset to view the addeded columns\n",
    "sampling_points.head()"
   ]
  },
  {
   "cell_type": "code",
   "execution_count": 14,
   "metadata": {
    "colab": {
     "base_uri": "https://localhost:8080/"
    },
    "id": "o_e7QNltIDjc",
    "outputId": "31a05799-4c06-49f0-c017-6aa4909fcfe0"
   },
   "outputs": [
    {
     "name": "stdout",
     "output_type": "stream",
     "text": [
      "ID           0\n",
      "SOC_t_ha     0\n",
      "Slope        0\n",
      "Rainfall     0\n",
      "NDVI         0\n",
      "landuse      0\n",
      "elevation    0\n",
      "BSI          0\n",
      "LST          0\n",
      "Estimated    0\n",
      "geometry     0\n",
      "dtype: int64\n"
     ]
    }
   ],
   "source": [
    "#check that there is no no data values in the dataset\n",
    "print(sampling_points.head().isnull().sum())"
   ]
  },
  {
   "cell_type": "code",
   "execution_count": 15,
   "metadata": {},
   "outputs": [],
   "source": [
    "# # read the dataset to view the addeded columns\n",
    "# sampling_points = sampling_points[['SOC_gkg','Slope','elevation','landuse', 'Rainfall','NDVI','BSI','Average_LS','geometry']]\n",
    "# sampling_points.head()"
   ]
  },
  {
   "cell_type": "code",
   "execution_count": 16,
   "metadata": {},
   "outputs": [
    {
     "data": {
      "text/html": [
       "<div>\n",
       "<style scoped>\n",
       "    .dataframe tbody tr th:only-of-type {\n",
       "        vertical-align: middle;\n",
       "    }\n",
       "\n",
       "    .dataframe tbody tr th {\n",
       "        vertical-align: top;\n",
       "    }\n",
       "\n",
       "    .dataframe thead th {\n",
       "        text-align: right;\n",
       "    }\n",
       "</style>\n",
       "<table border=\"1\" class=\"dataframe\">\n",
       "  <thead>\n",
       "    <tr style=\"text-align: right;\">\n",
       "      <th></th>\n",
       "      <th>SOC_t_ha</th>\n",
       "      <th>Slope</th>\n",
       "      <th>Rainfall</th>\n",
       "      <th>NDVI</th>\n",
       "      <th>landuse</th>\n",
       "      <th>elevation</th>\n",
       "      <th>BSI</th>\n",
       "      <th>LST</th>\n",
       "    </tr>\n",
       "  </thead>\n",
       "  <tbody>\n",
       "    <tr>\n",
       "      <th>count</th>\n",
       "      <td>2517.000000</td>\n",
       "      <td>2517.000000</td>\n",
       "      <td>2517.000000</td>\n",
       "      <td>2517.000000</td>\n",
       "      <td>2517.000000</td>\n",
       "      <td>2517.000000</td>\n",
       "      <td>2517.000000</td>\n",
       "      <td>2517.000000</td>\n",
       "    </tr>\n",
       "    <tr>\n",
       "      <th>mean</th>\n",
       "      <td>104.343610</td>\n",
       "      <td>-126.095622</td>\n",
       "      <td>-206.352714</td>\n",
       "      <td>-237.756014</td>\n",
       "      <td>24.131129</td>\n",
       "      <td>305.339236</td>\n",
       "      <td>-238.425881</td>\n",
       "      <td>83.599136</td>\n",
       "    </tr>\n",
       "    <tr>\n",
       "      <th>std</th>\n",
       "      <td>21.536551</td>\n",
       "      <td>1120.581118</td>\n",
       "      <td>1436.495030</td>\n",
       "      <td>1525.683702</td>\n",
       "      <td>17.437512</td>\n",
       "      <td>135.518218</td>\n",
       "      <td>1525.579003</td>\n",
       "      <td>1479.035289</td>\n",
       "    </tr>\n",
       "    <tr>\n",
       "      <th>min</th>\n",
       "      <td>2.905550</td>\n",
       "      <td>-9999.000000</td>\n",
       "      <td>-9999.000000</td>\n",
       "      <td>-9999.000000</td>\n",
       "      <td>10.000000</td>\n",
       "      <td>97.000000</td>\n",
       "      <td>-9999.000000</td>\n",
       "      <td>-9999.000000</td>\n",
       "    </tr>\n",
       "    <tr>\n",
       "      <th>25%</th>\n",
       "      <td>89.552400</td>\n",
       "      <td>0.315521</td>\n",
       "      <td>3.094040</td>\n",
       "      <td>0.480265</td>\n",
       "      <td>10.000000</td>\n",
       "      <td>211.000000</td>\n",
       "      <td>-0.250758</td>\n",
       "      <td>296.730000</td>\n",
       "    </tr>\n",
       "    <tr>\n",
       "      <th>50%</th>\n",
       "      <td>107.542000</td>\n",
       "      <td>0.697759</td>\n",
       "      <td>4.056060</td>\n",
       "      <td>0.603652</td>\n",
       "      <td>28.500700</td>\n",
       "      <td>281.000000</td>\n",
       "      <td>-0.048387</td>\n",
       "      <td>300.268000</td>\n",
       "    </tr>\n",
       "    <tr>\n",
       "      <th>75%</th>\n",
       "      <td>116.940000</td>\n",
       "      <td>1.197840</td>\n",
       "      <td>5.433600</td>\n",
       "      <td>0.762518</td>\n",
       "      <td>30.000000</td>\n",
       "      <td>372.000000</td>\n",
       "      <td>0.068142</td>\n",
       "      <td>303.876000</td>\n",
       "    </tr>\n",
       "    <tr>\n",
       "      <th>max</th>\n",
       "      <td>186.116000</td>\n",
       "      <td>15.156300</td>\n",
       "      <td>6.427360</td>\n",
       "      <td>0.884135</td>\n",
       "      <td>90.000000</td>\n",
       "      <td>864.000000</td>\n",
       "      <td>0.272422</td>\n",
       "      <td>314.075556</td>\n",
       "    </tr>\n",
       "  </tbody>\n",
       "</table>\n",
       "</div>"
      ],
      "text/plain": [
       "          SOC_t_ha        Slope     Rainfall         NDVI      landuse  \\\n",
       "count  2517.000000  2517.000000  2517.000000  2517.000000  2517.000000   \n",
       "mean    104.343610  -126.095622  -206.352714  -237.756014    24.131129   \n",
       "std      21.536551  1120.581118  1436.495030  1525.683702    17.437512   \n",
       "min       2.905550 -9999.000000 -9999.000000 -9999.000000    10.000000   \n",
       "25%      89.552400     0.315521     3.094040     0.480265    10.000000   \n",
       "50%     107.542000     0.697759     4.056060     0.603652    28.500700   \n",
       "75%     116.940000     1.197840     5.433600     0.762518    30.000000   \n",
       "max     186.116000    15.156300     6.427360     0.884135    90.000000   \n",
       "\n",
       "         elevation          BSI          LST  \n",
       "count  2517.000000  2517.000000  2517.000000  \n",
       "mean    305.339236  -238.425881    83.599136  \n",
       "std     135.518218  1525.579003  1479.035289  \n",
       "min      97.000000 -9999.000000 -9999.000000  \n",
       "25%     211.000000    -0.250758   296.730000  \n",
       "50%     281.000000    -0.048387   300.268000  \n",
       "75%     372.000000     0.068142   303.876000  \n",
       "max     864.000000     0.272422   314.075556  "
      ]
     },
     "execution_count": 16,
     "metadata": {},
     "output_type": "execute_result"
    }
   ],
   "source": [
    "sampling_points_2 = sampling_points[sampling_points.SOC_t_ha>0]\n",
    "sampling_points_2  = sampling_points_2.drop(columns=['ID','Estimated'],axis=1)\n",
    "sampling_points_2.describe()"
   ]
  },
  {
   "cell_type": "markdown",
   "metadata": {
    "id": "G4rHePOOO5QF"
   },
   "source": [
    "The correlation map generated from my dataset showed that there is a strong positive correlation between the label and land use pattern, meaning that land use is a strong predictor of the label variable. The map also showed a high inverse correlation between elevation data and land use data, meaning that certain land use patterns are associated with different elevations. Additionally, there is a negative correlation between slope and elevation, indicating that areas with high slopes are likely to have lower elevations."
   ]
  },
  {
   "cell_type": "code",
   "execution_count": 17,
   "metadata": {
    "colab": {
     "base_uri": "https://localhost:8080/",
     "height": 343
    },
    "id": "CSYDTYV1IDje",
    "outputId": "20c00e42-e7ed-48be-ef07-5bd8acc42b63"
   },
   "outputs": [
    {
     "data": {
      "text/plain": [
       "<AxesSubplot:>"
      ]
     },
     "execution_count": 17,
     "metadata": {},
     "output_type": "execute_result"
    },
    {
     "data": {
      "image/png": "[encoded data removed]",
      "text/plain": [
       "<Figure size 720x360 with 2 Axes>"
      ]
     },
     "metadata": {
      "needs_background": "light"
     },
     "output_type": "display_data"
    }
   ],
   "source": [
    "# show the correlation matric for the dataset\n",
    "corrMatrix = sampling_points_2.corr()\n",
    "fig, ax = plt.subplots(figsize=(10,5))         # Sample figsize in inches\n",
    "#sns.heatmap(df.iloc[:, 1:6:], annot=True, linewidths=.5, ax=ax)\n",
    "sns.heatmap(corrMatrix, annot=True, linewidths=.5, ax=ax)"
   ]
  },
  {
   "cell_type": "code",
   "execution_count": 18,
   "metadata": {},
   "outputs": [
    {
     "name": "stdout",
     "output_type": "stream",
     "text": [
      "           SOC_t_ha     Slope  Rainfall      NDVI   landuse  elevation  \\\n",
      "SOC_t_ha   1.000000  0.066705  0.397843  0.397529 -0.127971   0.555792   \n",
      "Slope      0.066705  1.000000 -0.016485 -0.017674 -0.176722   0.126992   \n",
      "Rainfall   0.397843 -0.016485  1.000000  0.938526 -0.045019   0.093125   \n",
      "NDVI       0.397529 -0.017674  0.938526  1.000000 -0.038865   0.099627   \n",
      "landuse   -0.127971 -0.176722 -0.045019 -0.038865  1.000000  -0.051004   \n",
      "elevation  0.555792  0.126992  0.093125  0.099627 -0.051004   1.000000   \n",
      "BSI        0.397517 -0.017678  0.938526  1.000000 -0.038755   0.099661   \n",
      "LST        0.396180 -0.016827  0.999993  0.938519 -0.043952   0.092220   \n",
      "\n",
      "                BSI       LST  \n",
      "SOC_t_ha   0.397517  0.396180  \n",
      "Slope     -0.017678 -0.016827  \n",
      "Rainfall   0.938526  0.999993  \n",
      "NDVI       1.000000  0.938519  \n",
      "landuse   -0.038755 -0.043952  \n",
      "elevation  0.099661  0.092220  \n",
      "BSI        1.000000  0.938519  \n",
      "LST        0.938519  1.000000  \n"
     ]
    }
   ],
   "source": [
    "print(corrMatrix)"
   ]
  },
  {
   "cell_type": "markdown",
   "metadata": {},
   "source": [
    "### OLS"
   ]
  },
  {
   "cell_type": "code",
   "execution_count": 54,
   "metadata": {},
   "outputs": [
    {
     "name": "stdout",
     "output_type": "stream",
     "text": [
      "                            OLS Regression Results                            \n",
      "==============================================================================\n",
      "Dep. Variable:               SOC_t_ha   R-squared:                       0.708\n",
      "Model:                            OLS   Adj. R-squared:                  0.707\n",
      "Method:                 Least Squares   F-statistic:                     901.1\n",
      "Date:                Sun, 02 Jul 2023   Prob (F-statistic):               0.00\n",
      "Time:                        16:47:15   Log-Likelihood:                -10824.\n",
      "No. Observations:                2607   AIC:                         2.166e+04\n",
      "Df Residuals:                    2599   BIC:                         2.171e+04\n",
      "Df Model:                           7                                         \n",
      "Covariance Type:            nonrobust                                         \n",
      "==============================================================================\n",
      "                 coef    std err          t      P>|t|      [0.025      0.975]\n",
      "------------------------------------------------------------------------------\n",
      "Intercept    482.1253     19.456     24.780      0.000     443.974     520.277\n",
      "Slope         -0.0002      0.000     -0.702      0.483      -0.001       0.000\n",
      "Rainfall       1.3898      0.066     21.146      0.000       1.261       1.519\n",
      "NDVI           0.0590      1.197      0.049      0.961      -2.287       2.405\n",
      "landuse        0.0187      0.021      0.897      0.370      -0.022       0.060\n",
      "elevation      0.0679      0.002     27.645      0.000       0.063       0.073\n",
      "BSI           -0.0568      1.197     -0.047      0.962      -2.403       2.290\n",
      "LST           -1.3439      0.064    -21.053      0.000      -1.469      -1.219\n",
      "==============================================================================\n",
      "Omnibus:                      405.467   Durbin-Watson:                   0.628\n",
      "Prob(Omnibus):                  0.000   Jarque-Bera (JB):              967.009\n",
      "Skew:                           0.876   Prob(JB):                    1.04e-210\n",
      "Kurtosis:                       5.415   Cond. No.                     3.04e+05\n",
      "==============================================================================\n",
      "\n",
      "Notes:\n",
      "[1] Standard Errors assume that the covariance matrix of the errors is correctly specified.\n",
      "[2] The condition number is large, 3.04e+05. This might indicate that there are\n",
      "strong multicollinearity or other numerical problems.\n"
     ]
    }
   ],
   "source": [
    "import statsmodels.formula.api as smf\n",
    "# Define the dependent variable that needs to be predicted (labels)\n",
    "y = sampling_points[\"SOC_t_ha\"].values\n",
    "\n",
    "# Define the independent variables. Let's also drop geometry and label\n",
    "x = sampling_points.drop(labels=[\"SOC_t_ha\", \"geometry\", \"ID\", \"Estimated\"], axis=1)\n",
    "features_list = list(x.columns)  # List features so we can rank their importance later\n",
    "\n",
    "# Fit the model\n",
    "model = smf.ols(formula=\"SOC_t_ha ~ \" + \" + \".join(features_list), data=sampling_points)\n",
    "results = model.fit()\n",
    "\n",
    "# Model summary\n",
    "print(results.summary())"
   ]
  },
  {
   "cell_type": "code",
   "execution_count": null,
   "metadata": {},
   "outputs": [],
   "source": [
    "sns.pairplot(sampling_points_2)"
   ]
  },
  {
   "cell_type": "code",
   "execution_count": 55,
   "metadata": {},
   "outputs": [
    {
     "data": {
      "text/plain": [
       "<AxesSubplot:>"
      ]
     },
     "execution_count": 55,
     "metadata": {},
     "output_type": "execute_result"
    },
    {
     "data": {
      "image/png": "[encoded data removed]",
      "text/plain": [
       "<Figure size 432x288 with 1 Axes>"
      ]
     },
     "metadata": {
      "needs_background": "light"
     },
     "output_type": "display_data"
    }
   ],
   "source": [
    "sns.boxplot(sampling_points_2)"
   ]
  },
  {
   "cell_type": "code",
   "execution_count": 38,
   "metadata": {},
   "outputs": [],
   "source": [
    "# from sklearn.preprocessing import StandardScaler\n",
    "# scaler = StandardScaler()\n",
    "# data2 = scaler.fit_transform(sampling_points_2.drop(['geometry','ID'], axis=1))\n",
    "# data2"
   ]
  },
  {
   "cell_type": "code",
   "execution_count": 39,
   "metadata": {},
   "outputs": [],
   "source": [
    "# df1 = pd.DataFrame(data=data2, columns=['SOC_t_hag','Slope','elevation','landuse', 'Rainfall','NDVI','BSI','LST','Estimated'])\n",
    "# df1.head()"
   ]
  },
  {
   "cell_type": "code",
   "execution_count": 40,
   "metadata": {},
   "outputs": [],
   "source": [
    "# # show the correlation matric for the dataset\n",
    "# corrMatrix = df1.corr()\n",
    "# fig, ax = plt.subplots(figsize=(10,5))         # Sample figsize in inches\n",
    "# #sns.heatmap(df.iloc[:, 1:6:], annot=True, linewidths=.5, ax=ax)\n",
    "# sns.heatmap(corrMatrix, annot=True, linewidths=.5, ax=ax)\n"
   ]
  },
  {
   "cell_type": "markdown",
   "metadata": {
    "id": "xbfWduNoIDjf"
   },
   "source": [
    "###  MACHINE LEARNING MODEL\n",
    "\n",
    "* import the ML libaries\n",
    "* split the data into dependent and independent variable\n",
    "* splitt the dataset into training and test test\n",
    "* Build our model uisng Random Forest Machine Learning Algorithm\n",
    "* Check the accureacy of our model uisng differernt accracy metrics\n",
    "* Plot the Predicted data"
   ]
  },
  {
   "cell_type": "code",
   "execution_count": 53,
   "metadata": {
    "id": "EbZhxDj4HaI5"
   },
   "outputs": [],
   "source": [
    "# import require libaries\n",
    "from sklearn.model_selection import train_test_split\n",
    "from sklearn.ensemble import RandomForestRegressor\n",
    "from sklearn.metrics import r2_score\n",
    "from sklearn.metrics import mean_absolute_error"
   ]
  },
  {
   "cell_type": "code",
   "execution_count": 44,
   "metadata": {
    "colab": {
     "base_uri": "https://localhost:8080/",
     "height": 206
    },
    "id": "juuGxMq8Gsbu",
    "outputId": "e6b15dce-b298-44ee-a395-20369eda0236"
   },
   "outputs": [
    {
     "data": {
      "text/html": [
       "<div>\n",
       "<style scoped>\n",
       "    .dataframe tbody tr th:only-of-type {\n",
       "        vertical-align: middle;\n",
       "    }\n",
       "\n",
       "    .dataframe tbody tr th {\n",
       "        vertical-align: top;\n",
       "    }\n",
       "\n",
       "    .dataframe thead th {\n",
       "        text-align: right;\n",
       "    }\n",
       "</style>\n",
       "<table border=\"1\" class=\"dataframe\">\n",
       "  <thead>\n",
       "    <tr style=\"text-align: right;\">\n",
       "      <th></th>\n",
       "      <th>ID</th>\n",
       "      <th>SOC_t_ha</th>\n",
       "      <th>Slope</th>\n",
       "      <th>Rainfall</th>\n",
       "      <th>NDVI</th>\n",
       "      <th>landuse</th>\n",
       "      <th>elevation</th>\n",
       "      <th>BSI</th>\n",
       "      <th>LST</th>\n",
       "      <th>Estimated</th>\n",
       "      <th>geometry</th>\n",
       "    </tr>\n",
       "  </thead>\n",
       "  <tbody>\n",
       "    <tr>\n",
       "      <th>0</th>\n",
       "      <td>0</td>\n",
       "      <td>117.179</td>\n",
       "      <td>2.5858</td>\n",
       "      <td>4.21154</td>\n",
       "      <td>0.52545</td>\n",
       "      <td>30.0</td>\n",
       "      <td>468.0</td>\n",
       "      <td>0.028501</td>\n",
       "      <td>298.908</td>\n",
       "      <td>118.595358</td>\n",
       "      <td>POINT (-52.80306 -14.51194)</td>\n",
       "    </tr>\n",
       "    <tr>\n",
       "      <th>1</th>\n",
       "      <td>1</td>\n",
       "      <td>117.179</td>\n",
       "      <td>2.5858</td>\n",
       "      <td>4.21154</td>\n",
       "      <td>0.52545</td>\n",
       "      <td>30.0</td>\n",
       "      <td>468.0</td>\n",
       "      <td>0.028501</td>\n",
       "      <td>298.908</td>\n",
       "      <td>118.595358</td>\n",
       "      <td>POINT (-52.80306 -14.51194)</td>\n",
       "    </tr>\n",
       "    <tr>\n",
       "      <th>2</th>\n",
       "      <td>2</td>\n",
       "      <td>117.179</td>\n",
       "      <td>2.5858</td>\n",
       "      <td>4.21154</td>\n",
       "      <td>0.52545</td>\n",
       "      <td>30.0</td>\n",
       "      <td>468.0</td>\n",
       "      <td>0.028501</td>\n",
       "      <td>298.908</td>\n",
       "      <td>118.595358</td>\n",
       "      <td>POINT (-52.80306 -14.51194)</td>\n",
       "    </tr>\n",
       "    <tr>\n",
       "      <th>3</th>\n",
       "      <td>3</td>\n",
       "      <td>117.179</td>\n",
       "      <td>2.5858</td>\n",
       "      <td>4.21154</td>\n",
       "      <td>0.52545</td>\n",
       "      <td>30.0</td>\n",
       "      <td>468.0</td>\n",
       "      <td>0.028501</td>\n",
       "      <td>298.908</td>\n",
       "      <td>118.595358</td>\n",
       "      <td>POINT (-52.80306 -14.51194)</td>\n",
       "    </tr>\n",
       "    <tr>\n",
       "      <th>4</th>\n",
       "      <td>4</td>\n",
       "      <td>117.179</td>\n",
       "      <td>2.5858</td>\n",
       "      <td>4.21154</td>\n",
       "      <td>0.52545</td>\n",
       "      <td>30.0</td>\n",
       "      <td>468.0</td>\n",
       "      <td>0.028501</td>\n",
       "      <td>298.908</td>\n",
       "      <td>118.595358</td>\n",
       "      <td>POINT (-52.80306 -14.51194)</td>\n",
       "    </tr>\n",
       "  </tbody>\n",
       "</table>\n",
       "</div>"
      ],
      "text/plain": [
       "   ID  SOC_t_ha   Slope  Rainfall     NDVI  landuse  elevation       BSI  \\\n",
       "0   0   117.179  2.5858   4.21154  0.52545     30.0      468.0  0.028501   \n",
       "1   1   117.179  2.5858   4.21154  0.52545     30.0      468.0  0.028501   \n",
       "2   2   117.179  2.5858   4.21154  0.52545     30.0      468.0  0.028501   \n",
       "3   3   117.179  2.5858   4.21154  0.52545     30.0      468.0  0.028501   \n",
       "4   4   117.179  2.5858   4.21154  0.52545     30.0      468.0  0.028501   \n",
       "\n",
       "       LST   Estimated                     geometry  \n",
       "0  298.908  118.595358  POINT (-52.80306 -14.51194)  \n",
       "1  298.908  118.595358  POINT (-52.80306 -14.51194)  \n",
       "2  298.908  118.595358  POINT (-52.80306 -14.51194)  \n",
       "3  298.908  118.595358  POINT (-52.80306 -14.51194)  \n",
       "4  298.908  118.595358  POINT (-52.80306 -14.51194)  "
      ]
     },
     "execution_count": 44,
     "metadata": {},
     "output_type": "execute_result"
    }
   ],
   "source": [
    "#load the dataset \n",
    "sampling_points.head()"
   ]
  },
  {
   "cell_type": "code",
   "execution_count": 45,
   "metadata": {
    "id": "DD3T-sLaIDjg"
   },
   "outputs": [],
   "source": [
    "# Define the dependent variable that needs to be predicted (labels)\n",
    "y = sampling_points[\"SOC_t_ha\"].values\n",
    "\n",
    "# Define the independent variables. Let's also drop gemotry and label\n",
    "x = sampling_points.drop(labels = [\"SOC_t_ha\", \"geometry\",'ID','Estimated'], axis=1) \n",
    "features_list = list(x.columns)  #List features so we can rank their importance later "
   ]
  },
  {
   "cell_type": "code",
   "execution_count": 46,
   "metadata": {
    "id": "f6dUxdeNHAv7"
   },
   "outputs": [],
   "source": [
    "import random\n",
    "random.seed(42)\n",
    "#Split data into train (60 %), validate (20 %) and test (20%) to verify accuracy after fitting the model.\n",
    "# training data is used to train the model\n",
    "# validation data is used for hyperparameter tuning\n",
    "# testing data is used to test the model\n",
    "\n",
    "X_train_val, X_test, y_train_val, y_test = train_test_split(x, y, test_size=0.2,shuffle=True, random_state=42)\n",
    "X_train, X_val, y_train, y_val = train_test_split(X_train_val, y_train_val, test_size=0.25,shuffle=True, random_state=42)"
   ]
  },
  {
   "cell_type": "markdown",
   "metadata": {
    "id": "UHA1JCayIJzw"
   },
   "source": [
    "#### RANDOM FOREST REGRESSION"
   ]
  },
  {
   "cell_type": "code",
   "execution_count": 47,
   "metadata": {
    "colab": {
     "base_uri": "https://localhost:8080/"
    },
    "id": "GTO4gxjWIDjg",
    "outputId": "0342788b-985b-4955-9459-8519c37843c1"
   },
   "outputs": [
    {
     "data": {
      "text/plain": [
       "array([114.2643358, 117.5345288,  81.8648954,  68.4568023,  79.1897007,\n",
       "       137.823338 , 117.5345288,  95.0761048,  90.2293748,  93.3177985])"
      ]
     },
     "execution_count": 47,
     "metadata": {},
     "output_type": "execute_result"
    }
   ],
   "source": [
    "# instantiate the Random Forest Model\n",
    "model = RandomForestRegressor(n_estimators =1000, random_state = 42)\n",
    "\n",
    "# Train the model on training data\n",
    "model.fit(X_train, y_train)\n",
    "\n",
    "# make prediction for the test dataset.\n",
    "prediction = model.predict(X_test)\n",
    "\n",
    "# The prediction SOC value\n",
    "prediction[:10]"
   ]
  },
  {
   "cell_type": "code",
   "execution_count": 48,
   "metadata": {},
   "outputs": [
    {
     "data": {
      "text/plain": [
       "array([114.421 , 117.691 ,  81.8049,  61.033 ,  78.8382, 137.872 ,\n",
       "       117.691 ,  90.9304,  88.974 ,  93.1147])"
      ]
     },
     "execution_count": 48,
     "metadata": {},
     "output_type": "execute_result"
    }
   ],
   "source": [
    "y_test[:10]"
   ]
  },
  {
   "cell_type": "code",
   "execution_count": 49,
   "metadata": {},
   "outputs": [
    {
     "data": {
      "text/plain": [
       "0.9170101678954412"
      ]
     },
     "execution_count": 49,
     "metadata": {},
     "output_type": "execute_result"
    }
   ],
   "source": [
    "model.score(X_test,y_test)"
   ]
  },
  {
   "cell_type": "markdown",
   "metadata": {
    "id": "6YywR4X0J7LL"
   },
   "source": [
    "#### Metric Evaluation"
   ]
  },
  {
   "cell_type": "markdown",
   "metadata": {
    "id": "p_Qi5zLZKGLi"
   },
   "source": [
    "R2"
   ]
  },
  {
   "cell_type": "code",
   "execution_count": null,
   "metadata": {
    "colab": {
     "base_uri": "https://localhost:8080/",
     "height": 279
    },
    "id": "DyL-mTRcJ_rI",
    "outputId": "3b2ae74b-7c72-4149-f79e-f6b7f8c2ad70"
   },
   "outputs": [],
   "source": [
    "r2_score(y_test,prediction)"
   ]
  },
  {
   "cell_type": "markdown",
   "metadata": {},
   "source": [
    "RMSE"
   ]
  },
  {
   "cell_type": "code",
   "execution_count": null,
   "metadata": {},
   "outputs": [],
   "source": []
  },
  {
   "cell_type": "markdown",
   "metadata": {},
   "source": [
    "MAE"
   ]
  },
  {
   "cell_type": "code",
   "execution_count": 32,
   "metadata": {},
   "outputs": [
    {
     "data": {
      "text/plain": [
       "4.044441675525555"
      ]
     },
     "execution_count": 32,
     "metadata": {},
     "output_type": "execute_result"
    }
   ],
   "source": [
    "mae = mean_absolute_error(y_test,prediction)\n",
    "mae"
   ]
  },
  {
   "cell_type": "markdown",
   "metadata": {
    "id": "BFeoyqwxKPyR"
   },
   "source": [
    "Features Importance"
   ]
  },
  {
   "cell_type": "code",
   "execution_count": 33,
   "metadata": {
    "colab": {
     "base_uri": "https://localhost:8080/",
     "height": 393
    },
    "id": "lYChpBUbIDjh",
    "outputId": "c7896fb0-b326-4817-b3cb-1405f47da328"
   },
   "outputs": [
    {
     "name": "stdout",
     "output_type": "stream",
     "text": [
      "LST          0.319904\n",
      "Rainfall     0.288690\n",
      "elevation    0.262031\n",
      "Slope        0.057116\n",
      "NDVI         0.029349\n",
      "BSI          0.027067\n",
      "landuse      0.015844\n",
      "dtype: float64\n"
     ]
    },
    {
     "data": {
      "image/png": "[encoded data removed]",
      "text/plain": [
       "<Figure size 432x288 with 1 Axes>"
      ]
     },
     "metadata": {
      "needs_background": "light"
     },
     "output_type": "display_data"
    }
   ],
   "source": [
    "# Estimate the feature importance\n",
    "feature_imp = pd.Series(model.feature_importances_, index=features_list).sort_values(ascending=False)\n",
    "print(feature_imp)\n",
    "\n",
    "# Plot the feature importance \n",
    "feature_imp.plot.bar();"
   ]
  },
  {
   "cell_type": "markdown",
   "metadata": {
    "id": "4ZzGVlgIKyeD"
   },
   "source": [
    "Regression Accuracy"
   ]
  },
  {
   "cell_type": "code",
   "execution_count": 34,
   "metadata": {
    "colab": {
     "base_uri": "https://localhost:8080/"
    },
    "id": "8TShWtRpK108",
    "outputId": "f1552d49-89f7-4458-a688-66857a18a87d"
   },
   "outputs": [
    {
     "name": "stdout",
     "output_type": "stream",
     "text": [
      "Accuracy: 91.70%\n"
     ]
    }
   ],
   "source": [
    "# Calculate the accuracy score\n",
    "accuracy = r2_score(y_test, prediction)\n",
    "\n",
    "# Print the accuracy as a percentage\n",
    "print(\"Accuracy: {:.2%}\".format(accuracy))"
   ]
  },
  {
   "cell_type": "markdown",
   "metadata": {
    "id": "-mFoNYHRK2nG"
   },
   "source": []
  },
  {
   "cell_type": "markdown",
   "metadata": {
    "id": "qcK5_inMIDji"
   },
   "source": [
    "### Evaluation of the results – include accuracy,feature importance and Accuracy \n",
    "\n",
    "The results of the feature importance analysis can help to identify the most important predictors in the model, which could be useful in guiding further research or decision-making. Additionally, the high accuracy of the model suggests that it may be a useful tool for predicting the target variable in other datasets."
   ]
  },
  {
   "cell_type": "code",
   "execution_count": 35,
   "metadata": {},
   "outputs": [
    {
     "data": {
      "text/html": [
       "<div>\n",
       "<style scoped>\n",
       "    .dataframe tbody tr th:only-of-type {\n",
       "        vertical-align: middle;\n",
       "    }\n",
       "\n",
       "    .dataframe tbody tr th {\n",
       "        vertical-align: top;\n",
       "    }\n",
       "\n",
       "    .dataframe thead th {\n",
       "        text-align: right;\n",
       "    }\n",
       "</style>\n",
       "<table border=\"1\" class=\"dataframe\">\n",
       "  <thead>\n",
       "    <tr style=\"text-align: right;\">\n",
       "      <th></th>\n",
       "      <th>Slope</th>\n",
       "      <th>Rainfall</th>\n",
       "      <th>NDVI</th>\n",
       "      <th>landuse</th>\n",
       "      <th>elevation</th>\n",
       "      <th>BSI</th>\n",
       "      <th>Average_LS</th>\n",
       "      <th>geometry</th>\n",
       "    </tr>\n",
       "  </thead>\n",
       "  <tbody>\n",
       "    <tr>\n",
       "      <th>0</th>\n",
       "      <td>0.662234</td>\n",
       "      <td>3.01569</td>\n",
       "      <td>0.446756</td>\n",
       "      <td>30.0000</td>\n",
       "      <td>254.000</td>\n",
       "      <td>0.120537</td>\n",
       "      <td>300.588889</td>\n",
       "      <td>POINT (163156.332 8203467.115)</td>\n",
       "    </tr>\n",
       "    <tr>\n",
       "      <th>1</th>\n",
       "      <td>0.608627</td>\n",
       "      <td>3.01569</td>\n",
       "      <td>0.463615</td>\n",
       "      <td>30.0000</td>\n",
       "      <td>275.000</td>\n",
       "      <td>0.096819</td>\n",
       "      <td>303.490000</td>\n",
       "      <td>POINT (168156.332 8203467.115)</td>\n",
       "    </tr>\n",
       "    <tr>\n",
       "      <th>2</th>\n",
       "      <td>0.778892</td>\n",
       "      <td>3.04634</td>\n",
       "      <td>0.561294</td>\n",
       "      <td>23.9639</td>\n",
       "      <td>292.345</td>\n",
       "      <td>0.024005</td>\n",
       "      <td>303.117500</td>\n",
       "      <td>POINT (173156.332 8203467.115)</td>\n",
       "    </tr>\n",
       "    <tr>\n",
       "      <th>3</th>\n",
       "      <td>0.368167</td>\n",
       "      <td>3.10956</td>\n",
       "      <td>0.460890</td>\n",
       "      <td>90.0000</td>\n",
       "      <td>243.000</td>\n",
       "      <td>0.106112</td>\n",
       "      <td>300.880000</td>\n",
       "      <td>POINT (178156.332 8203467.115)</td>\n",
       "    </tr>\n",
       "    <tr>\n",
       "      <th>4</th>\n",
       "      <td>1.046340</td>\n",
       "      <td>3.05168</td>\n",
       "      <td>0.481427</td>\n",
       "      <td>30.0000</td>\n",
       "      <td>266.000</td>\n",
       "      <td>0.089576</td>\n",
       "      <td>304.490000</td>\n",
       "      <td>POINT (183156.332 8203467.115)</td>\n",
       "    </tr>\n",
       "  </tbody>\n",
       "</table>\n",
       "</div>"
      ],
      "text/plain": [
       "      Slope  Rainfall      NDVI  landuse  elevation       BSI  Average_LS  \\\n",
       "0  0.662234   3.01569  0.446756  30.0000    254.000  0.120537  300.588889   \n",
       "1  0.608627   3.01569  0.463615  30.0000    275.000  0.096819  303.490000   \n",
       "2  0.778892   3.04634  0.561294  23.9639    292.345  0.024005  303.117500   \n",
       "3  0.368167   3.10956  0.460890  90.0000    243.000  0.106112  300.880000   \n",
       "4  1.046340   3.05168  0.481427  30.0000    266.000  0.089576  304.490000   \n",
       "\n",
       "                         geometry  \n",
       "0  POINT (163156.332 8203467.115)  \n",
       "1  POINT (168156.332 8203467.115)  \n",
       "2  POINT (173156.332 8203467.115)  \n",
       "3  POINT (178156.332 8203467.115)  \n",
       "4  POINT (183156.332 8203467.115)  "
      ]
     },
     "execution_count": 35,
     "metadata": {},
     "output_type": "execute_result"
    }
   ],
   "source": [
    "predictive_points = gpd.read_file('matto_grosso_data/predictive_dataaset_label.shp')\n",
    "# predictive_points = predictive_points[(predictive_points.NDVI > 0) \n",
    "#                                       &(predictive_points.elevation > 0)\n",
    "#                                       &(predictive_points.Slope > 0)\n",
    "#                                      &(predictive_points.Average_LS > 0)\n",
    "#                                      &(predictive_points.landuse > 0)\n",
    "#                                      &(predictive_points.BSI > 0)]\n",
    "predictive_points.head()"
   ]
  },
  {
   "cell_type": "code",
   "execution_count": 36,
   "metadata": {
    "colab": {
     "base_uri": "https://localhost:8080/",
     "height": 206
    },
    "id": "k12gIK23IDjv",
    "outputId": "3ac1d609-9ff8-49ae-8ddc-b87221576820",
    "scrolled": true
   },
   "outputs": [
    {
     "data": {
      "text/html": [
       "<div>\n",
       "<style scoped>\n",
       "    .dataframe tbody tr th:only-of-type {\n",
       "        vertical-align: middle;\n",
       "    }\n",
       "\n",
       "    .dataframe tbody tr th {\n",
       "        vertical-align: top;\n",
       "    }\n",
       "\n",
       "    .dataframe thead th {\n",
       "        text-align: right;\n",
       "    }\n",
       "</style>\n",
       "<table border=\"1\" class=\"dataframe\">\n",
       "  <thead>\n",
       "    <tr style=\"text-align: right;\">\n",
       "      <th></th>\n",
       "      <th>Slope</th>\n",
       "      <th>Rainfall</th>\n",
       "      <th>NDVI</th>\n",
       "      <th>landuse</th>\n",
       "      <th>elevation</th>\n",
       "      <th>BSI</th>\n",
       "      <th>Average_LS</th>\n",
       "    </tr>\n",
       "  </thead>\n",
       "  <tbody>\n",
       "    <tr>\n",
       "      <th>count</th>\n",
       "      <td>36258.000000</td>\n",
       "      <td>36258.000000</td>\n",
       "      <td>36258.000000</td>\n",
       "      <td>36258.000000</td>\n",
       "      <td>36258.000000</td>\n",
       "      <td>36258.000000</td>\n",
       "      <td>36258.000000</td>\n",
       "    </tr>\n",
       "    <tr>\n",
       "      <th>mean</th>\n",
       "      <td>-151.803072</td>\n",
       "      <td>-11.079523</td>\n",
       "      <td>-17.846079</td>\n",
       "      <td>15.625921</td>\n",
       "      <td>326.110689</td>\n",
       "      <td>-18.840230</td>\n",
       "      <td>273.478573</td>\n",
       "    </tr>\n",
       "    <tr>\n",
       "      <th>std</th>\n",
       "      <td>1226.634653</td>\n",
       "      <td>396.332598</td>\n",
       "      <td>429.461155</td>\n",
       "      <td>252.824271</td>\n",
       "      <td>346.042381</td>\n",
       "      <td>432.617106</td>\n",
       "      <td>512.455513</td>\n",
       "    </tr>\n",
       "    <tr>\n",
       "      <th>min</th>\n",
       "      <td>-9999.000000</td>\n",
       "      <td>-9999.000000</td>\n",
       "      <td>-9999.000000</td>\n",
       "      <td>-9999.000000</td>\n",
       "      <td>-9999.000000</td>\n",
       "      <td>-9999.000000</td>\n",
       "      <td>-9999.000000</td>\n",
       "    </tr>\n",
       "    <tr>\n",
       "      <th>25%</th>\n",
       "      <td>0.360256</td>\n",
       "      <td>3.878362</td>\n",
       "      <td>0.487808</td>\n",
       "      <td>10.000000</td>\n",
       "      <td>238.000000</td>\n",
       "      <td>-0.289091</td>\n",
       "      <td>295.675139</td>\n",
       "    </tr>\n",
       "    <tr>\n",
       "      <th>50%</th>\n",
       "      <td>0.722496</td>\n",
       "      <td>4.715525</td>\n",
       "      <td>0.630057</td>\n",
       "      <td>10.000000</td>\n",
       "      <td>322.000000</td>\n",
       "      <td>-0.055678</td>\n",
       "      <td>298.570714</td>\n",
       "    </tr>\n",
       "    <tr>\n",
       "      <th>75%</th>\n",
       "      <td>1.176125</td>\n",
       "      <td>5.591737</td>\n",
       "      <td>0.809187</td>\n",
       "      <td>30.000000</td>\n",
       "      <td>402.000000</td>\n",
       "      <td>0.079816</td>\n",
       "      <td>302.180000</td>\n",
       "    </tr>\n",
       "    <tr>\n",
       "      <th>max</th>\n",
       "      <td>18.183900</td>\n",
       "      <td>6.875350</td>\n",
       "      <td>0.910371</td>\n",
       "      <td>90.000000</td>\n",
       "      <td>1039.000000</td>\n",
       "      <td>0.334742</td>\n",
       "      <td>319.260000</td>\n",
       "    </tr>\n",
       "  </tbody>\n",
       "</table>\n",
       "</div>"
      ],
      "text/plain": [
       "              Slope      Rainfall          NDVI       landuse     elevation  \\\n",
       "count  36258.000000  36258.000000  36258.000000  36258.000000  36258.000000   \n",
       "mean    -151.803072    -11.079523    -17.846079     15.625921    326.110689   \n",
       "std     1226.634653    396.332598    429.461155    252.824271    346.042381   \n",
       "min    -9999.000000  -9999.000000  -9999.000000  -9999.000000  -9999.000000   \n",
       "25%        0.360256      3.878362      0.487808     10.000000    238.000000   \n",
       "50%        0.722496      4.715525      0.630057     10.000000    322.000000   \n",
       "75%        1.176125      5.591737      0.809187     30.000000    402.000000   \n",
       "max       18.183900      6.875350      0.910371     90.000000   1039.000000   \n",
       "\n",
       "                BSI    Average_LS  \n",
       "count  36258.000000  36258.000000  \n",
       "mean     -18.840230    273.478573  \n",
       "std      432.617106    512.455513  \n",
       "min    -9999.000000  -9999.000000  \n",
       "25%       -0.289091    295.675139  \n",
       "50%       -0.055678    298.570714  \n",
       "75%        0.079816    302.180000  \n",
       "max        0.334742    319.260000  "
      ]
     },
     "execution_count": 36,
     "metadata": {},
     "output_type": "execute_result"
    }
   ],
   "source": [
    "# we need to remove all the columns except the predictive features\n",
    "predicitve_data = predictive_points.drop(labels = [\"geometry\"], axis=1)\n",
    "predicitve_data.describe()"
   ]
  },
  {
   "cell_type": "markdown",
   "metadata": {
    "id": "E1G9Z6U8TvvN"
   },
   "source": [
    "### Finally, run the model the untrained data"
   ]
  },
  {
   "cell_type": "code",
   "execution_count": 56,
   "metadata": {
    "id": "RQAAnhO5IDjw"
   },
   "outputs": [
    {
     "ename": "ValueError",
     "evalue": "shapes (2607,8) and (36258,7) not aligned: 8 (dim 1) != 36258 (dim 0)",
     "output_type": "error",
     "traceback": [
      "\u001b[1;31m---------------------------------------------------------------------------\u001b[0m",
      "\u001b[1;31mValueError\u001b[0m                                Traceback (most recent call last)",
      "\u001b[1;32m~\\AppData\\Local\\Temp\\ipykernel_10284\\1196336147.py\u001b[0m in \u001b[0;36m<module>\u001b[1;34m\u001b[0m\n\u001b[0;32m      1\u001b[0m \u001b[1;31m# predict if the so values at various locations\u001b[0m\u001b[1;33m\u001b[0m\u001b[1;33m\u001b[0m\u001b[0m\n\u001b[1;32m----> 2\u001b[1;33m \u001b[0msoc_prediction\u001b[0m \u001b[1;33m=\u001b[0m \u001b[0mmodel\u001b[0m\u001b[1;33m.\u001b[0m\u001b[0mpredict\u001b[0m\u001b[1;33m(\u001b[0m\u001b[0mpredicitve_data\u001b[0m\u001b[1;33m)\u001b[0m\u001b[1;33m\u001b[0m\u001b[0m\n\u001b[0m",
      "\u001b[1;32mD:\\NBS_work\\NBS_Data_Validation\\env\\lib\\site-packages\\statsmodels\\regression\\linear_model.py\u001b[0m in \u001b[0;36mpredict\u001b[1;34m(self, params, exog)\u001b[0m\n\u001b[0;32m    395\u001b[0m             \u001b[0mexog\u001b[0m \u001b[1;33m=\u001b[0m \u001b[0mself\u001b[0m\u001b[1;33m.\u001b[0m\u001b[0mexog\u001b[0m\u001b[1;33m\u001b[0m\u001b[0m\n\u001b[0;32m    396\u001b[0m \u001b[1;33m\u001b[0m\u001b[0m\n\u001b[1;32m--> 397\u001b[1;33m         \u001b[1;32mreturn\u001b[0m \u001b[0mnp\u001b[0m\u001b[1;33m.\u001b[0m\u001b[0mdot\u001b[0m\u001b[1;33m(\u001b[0m\u001b[0mexog\u001b[0m\u001b[1;33m,\u001b[0m \u001b[0mparams\u001b[0m\u001b[1;33m)\u001b[0m\u001b[1;33m\u001b[0m\u001b[0m\n\u001b[0m\u001b[0;32m    398\u001b[0m \u001b[1;33m\u001b[0m\u001b[0m\n\u001b[0;32m    399\u001b[0m     \u001b[1;32mdef\u001b[0m \u001b[0mget_distribution\u001b[0m\u001b[1;33m(\u001b[0m\u001b[0mself\u001b[0m\u001b[1;33m,\u001b[0m \u001b[0mparams\u001b[0m\u001b[1;33m,\u001b[0m \u001b[0mscale\u001b[0m\u001b[1;33m,\u001b[0m \u001b[0mexog\u001b[0m\u001b[1;33m=\u001b[0m\u001b[1;32mNone\u001b[0m\u001b[1;33m,\u001b[0m \u001b[0mdist_class\u001b[0m\u001b[1;33m=\u001b[0m\u001b[1;32mNone\u001b[0m\u001b[1;33m)\u001b[0m\u001b[1;33m:\u001b[0m\u001b[1;33m\u001b[0m\u001b[0m\n",
      "\u001b[1;32m<__array_function__ internals>\u001b[0m in \u001b[0;36mdot\u001b[1;34m(*args, **kwargs)\u001b[0m\n",
      "\u001b[1;31mValueError\u001b[0m: shapes (2607,8) and (36258,7) not aligned: 8 (dim 1) != 36258 (dim 0)"
     ]
    }
   ],
   "source": [
    "# predict if the so values at various locations\n",
    "soc_prediction = model.predict(predicitve_data) "
   ]
  },
  {
   "cell_type": "code",
   "execution_count": null,
   "metadata": {
    "id": "xyD1Z_5oIDjx"
   },
   "outputs": [],
   "source": [
    "# We need to add the value coressponding to each point\n",
    "predictive_points['soc_prediction']= soc_prediction [:]"
   ]
  },
  {
   "cell_type": "code",
   "execution_count": null,
   "metadata": {
    "colab": {
     "base_uri": "https://localhost:8080/",
     "height": 206
    },
    "id": "7nk0QM81IDjy",
    "outputId": "d63f7407-9fd8-4fe8-f962-bdda14f62be9"
   },
   "outputs": [],
   "source": [
    "predictive_points.head()"
   ]
  },
  {
   "cell_type": "code",
   "execution_count": null,
   "metadata": {},
   "outputs": [],
   "source": [
    "predictive_points.describe()"
   ]
  },
  {
   "cell_type": "code",
   "execution_count": null,
   "metadata": {},
   "outputs": [],
   "source": [
    "predictive_points.plot()"
   ]
  },
  {
   "cell_type": "code",
   "execution_count": null,
   "metadata": {},
   "outputs": [],
   "source": [
    "predictive_points.to_csv('predicted_data.csv', index = False)"
   ]
  },
  {
   "cell_type": "markdown",
   "metadata": {
    "id": "NCs2mLJYcji5"
   },
   "source": [
    "Generate the Raster data showing of soc distribution"
   ]
  },
  {
   "cell_type": "code",
   "execution_count": null,
   "metadata": {
    "id": "dG4L5BcQcn3C"
   },
   "outputs": [],
   "source": [
    "# Converting the point shapefile to raster.\n",
    "# We will use the model prediction (column flood_probability in predictive_points to make a raster)\n",
    "from geocube.api.core import make_geocube\n",
    "import rasterio as rio\n",
    "\n",
    "grid_data = make_geocube(vector_data=predictive_points_pro, measurements=[\"flood_probability\"],interpolate_na_method='linear', resolution=(-30, 30))\n",
    "grid_data[\"flood_probability\"].rio.to_raster(\"Flood_susceptibility.tif\")"
   ]
  },
  {
   "cell_type": "code",
   "execution_count": null,
   "metadata": {
    "id": "hn2p3U1vIDj3"
   },
   "outputs": [],
   "source": [
    "# you can save the flood prediction data if you want\n",
    "predictive_points.to_file('soc_pred.geojson', driver=\"GeoJSON\")"
   ]
  },
  {
   "cell_type": "markdown",
   "metadata": {
    "id": "sacPySNGIDj4"
   },
   "source": [
    "\n",
    "Hatarilabs. (2020, January 15). How to reproject single and multiple rasters with Python and Rasterio [Tutorial]. February 25, 2023, from https://hatarilabs.com/ih-en/how-to-reproject-single-and-multiple-rasters-with-python-and-rasterio-tutorial\n",
    "\n",
    "Towards urban flood susceptibility mapping using machine and deep learning models [Blog post]. Hydroinformatics. Retrieved September 15, 2021, from https://medium.com/hydroinformatics/towards-urban-flood-susceptibility-mapping-using-machine-and-deep-learning-models-3-random-9fe4e1279f3b"
   ]
  },
  {
   "cell_type": "markdown",
   "metadata": {
    "id": "GqPGdqlRIDj4"
   },
   "source": []
  }
 ],
 "metadata": {
  "colab": {
   "provenance": []
  },
  "kernelspec": {
   "display_name": "Python 3 (ipykernel)",
   "language": "python",
   "name": "python3"
  },
  "language_info": {
   "codemirror_mode": {
    "name": "ipython",
    "version": 3
   },
   "file_extension": ".py",
   "mimetype": "text/x-python",
   "name": "python",
   "nbconvert_exporter": "python",
   "pygments_lexer": "ipython3",
   "version": "3.11.8"
  },
  "vscode": {
   "interpreter": {
    "hash": "356734b0b4e05b3af569ed06eb258f6ef66038e7268c6bdbb97ecd1a1c609e88"
   }
  },
  "widgets": {
   "application/vnd.jupyter.widget-state+json": {
    "10ca6f9780864c96b071f7ea85bcf24c": {
     "model_module": "jupyter-leaflet",
     "model_module_version": "^0.17",
     "model_name": "LeafletTileLayerModel",
     "state": {
      "_model_module": "jupyter-leaflet",
      "_model_module_version": "^0.17",
      "_model_name": "LeafletTileLayerModel",
      "_view_count": null,
      "_view_module": "jupyter-leaflet",
      "_view_module_version": "^0.17",
      "_view_name": "LeafletTileLayerView",
      "attribution": "&copy; <a href=\"https://www.openstreetmap.org/copyright\">OpenStreetMap</a> contributors",
      "base": true,
      "bottom": true,
      "bounds": null,
      "detect_retina": false,
      "loading": false,
      "max_native_zoom": null,
      "max_zoom": 19,
      "min_native_zoom": null,
      "min_zoom": 1,
      "name": "OpenStreetMap.Mapnik",
      "no_wrap": false,
      "opacity": 1,
      "options": [
       "attribution",
       "bounds",
       "detect_retina",
       "max_native_zoom",
       "max_zoom",
       "min_native_zoom",
       "min_zoom",
       "no_wrap",
       "tile_size",
       "tms",
       "zoom_offset"
      ],
      "pane": "",
      "popup": null,
      "popup_max_height": null,
      "popup_max_width": 300,
      "popup_min_width": 50,
      "show_loading": false,
      "subitems": [],
      "tile_size": 256,
      "tms": false,
      "url": "https://tile.openstreetmap.org/{z}/{x}/{y}.png",
      "visible": true,
      "zoom_offset": 0
     }
    },
    "16db167e511e47d0a54c3e23eb6ef929": {
     "model_module": "jupyter-leaflet",
     "model_module_version": "^0.17",
     "model_name": "LeafletMapStyleModel",
     "state": {
      "_model_module": "jupyter-leaflet",
      "_model_module_version": "^0.17",
      "_model_name": "LeafletMapStyleModel",
      "_view_count": null,
      "_view_module": "@jupyter-widgets/base",
      "_view_module_version": "1.2.0",
      "_view_name": "StyleView",
      "cursor": "move"
     }
    },
    "1884392ad7d74f77b22bd3afee8f25ee": {
     "model_module": "jupyter-leaflet",
     "model_module_version": "^0.17",
     "model_name": "LeafletMeasureControlModel",
     "state": {
      "_custom_units": {},
      "_model_module": "jupyter-leaflet",
      "_model_module_version": "^0.17",
      "_model_name": "LeafletMeasureControlModel",
      "_view_count": null,
      "_view_module": "jupyter-leaflet",
      "_view_module_version": "^0.17",
      "_view_name": "LeafletMeasureControlView",
      "active_color": "orange",
      "capture_z_index": 10000,
      "completed_color": "#C8F2BE",
      "options": [
       "active_color",
       "capture_z_index",
       "completed_color",
       "popup_options",
       "position",
       "primary_area_unit",
       "primary_length_unit",
       "secondary_area_unit",
       "secondary_length_unit"
      ],
      "popup_options": {
       "autoPanPadding": [
        10,
        10
       ],
       "className": "leaflet-measure-resultpopup"
      },
      "position": "bottomleft",
      "primary_area_unit": "acres",
      "primary_length_unit": "kilometers",
      "secondary_area_unit": null,
      "secondary_length_unit": null
     }
    },
    "1aafd0ead93e464b891465a8402ad980": {
     "model_module": "@jupyter-widgets/base",
     "model_module_version": "1.2.0",
     "model_name": "LayoutModel",
     "state": {
      "_model_module": "@jupyter-widgets/base",
      "_model_module_version": "1.2.0",
      "_model_name": "LayoutModel",
      "_view_count": null,
      "_view_module": "@jupyter-widgets/base",
      "_view_module_version": "1.2.0",
      "_view_name": "LayoutView",
      "align_content": null,
      "align_items": null,
      "align_self": null,
      "border": null,
      "bottom": null,
      "display": null,
      "flex": null,
      "flex_flow": null,
      "grid_area": null,
      "grid_auto_columns": null,
      "grid_auto_flow": null,
      "grid_auto_rows": null,
      "grid_column": null,
      "grid_gap": null,
      "grid_row": null,
      "grid_template_areas": null,
      "grid_template_columns": null,
      "grid_template_rows": null,
      "height": "600px",
      "justify_content": null,
      "justify_items": null,
      "left": null,
      "margin": null,
      "max_height": null,
      "max_width": null,
      "min_height": null,
      "min_width": null,
      "object_fit": null,
      "object_position": null,
      "order": null,
      "overflow": null,
      "overflow_x": null,
      "overflow_y": null,
      "padding": null,
      "right": null,
      "top": null,
      "visibility": null,
      "width": null
     }
    },
    "1beb5c098f664ab2a5b411b5836c6bed": {
     "model_module": "jupyter-leaflet",
     "model_module_version": "^0.17",
     "model_name": "LeafletTileLayerModel",
     "state": {
      "_model_module": "jupyter-leaflet",
      "_model_module_version": "^0.17",
      "_model_name": "LeafletTileLayerModel",
      "_view_count": null,
      "_view_module": "jupyter-leaflet",
      "_view_module_version": "^0.17",
      "_view_name": "LeafletTileLayerView",
      "attribution": "Google Earth Engine",
      "base": false,
      "bottom": true,
      "bounds": null,
      "detect_retina": false,
      "loading": false,
      "max_native_zoom": null,
      "max_zoom": 24,
      "min_native_zoom": null,
      "min_zoom": 0,
      "name": "Elevation",
      "no_wrap": false,
      "opacity": 1,
      "options": [
       "attribution",
       "bounds",
       "detect_retina",
       "max_native_zoom",
       "max_zoom",
       "min_native_zoom",
       "min_zoom",
       "no_wrap",
       "tile_size",
       "tms",
       "zoom_offset"
      ],
      "pane": "",
      "popup": null,
      "popup_max_height": null,
      "popup_max_width": 300,
      "popup_min_width": 50,
      "show_loading": false,
      "subitems": [],
      "tile_size": 256,
      "tms": false,
      "url": "https://earthengine.googleapis.com/v1alpha/projects/earthengine-legacy/maps/6ebf6c0b19a72db729c910549452b246-e59b0d7c9333bb05f6b3873e7e40fea5/tiles/{z}/{x}/{y}",
      "visible": true,
      "zoom_offset": 0
     }
    },
    "307f6d551b8f4c4a8055d305b9b0e9ff": {
     "model_module": "@jupyter-widgets/controls",
     "model_module_version": "1.5.0",
     "model_name": "ToggleButtonModel",
     "state": {
      "_dom_classes": [],
      "_model_module": "@jupyter-widgets/controls",
      "_model_module_version": "1.5.0",
      "_model_name": "ToggleButtonModel",
      "_view_count": null,
      "_view_module": "@jupyter-widgets/controls",
      "_view_module_version": "1.5.0",
      "_view_name": "ToggleButtonView",
      "button_style": "",
      "description": "",
      "description_tooltip": null,
      "disabled": false,
      "icon": "globe",
      "layout": "IPY_MODEL_b18a8ec1174a4b539602b041e60c5fd5",
      "style": "IPY_MODEL_91a960182e92408693450e0a4b433141",
      "tooltip": "Search location/data",
      "value": false
     }
    },
    "42a2a539a70047e0ae324ef91b79ad44": {
     "model_module": "jupyter-leaflet",
     "model_module_version": "^0.17",
     "model_name": "LeafletAttributionControlModel",
     "state": {
      "_model_module": "jupyter-leaflet",
      "_model_module_version": "^0.17",
      "_model_name": "LeafletAttributionControlModel",
      "_view_count": null,
      "_view_module": "jupyter-leaflet",
      "_view_module_version": "^0.17",
      "_view_name": "LeafletAttributionControlView",
      "options": [
       "position",
       "prefix"
      ],
      "position": "bottomright",
      "prefix": "ipyleaflet"
     }
    },
    "42dd8778b1d249e19b2ddb2cc1525b69": {
     "model_module": "@jupyter-widgets/controls",
     "model_module_version": "1.5.0",
     "model_name": "DescriptionStyleModel",
     "state": {
      "_model_module": "@jupyter-widgets/controls",
      "_model_module_version": "1.5.0",
      "_model_name": "DescriptionStyleModel",
      "_view_count": null,
      "_view_module": "@jupyter-widgets/base",
      "_view_module_version": "1.2.0",
      "_view_name": "StyleView",
      "description_width": ""
     }
    },
    "4983676c3f254ceb97baa52e361c7299": {
     "model_module": "jupyter-leaflet",
     "model_module_version": "^0.17",
     "model_name": "LeafletZoomControlModel",
     "state": {
      "_model_module": "jupyter-leaflet",
      "_model_module_version": "^0.17",
      "_model_name": "LeafletZoomControlModel",
      "_view_count": null,
      "_view_module": "jupyter-leaflet",
      "_view_module_version": "^0.17",
      "_view_name": "LeafletZoomControlView",
      "options": [
       "position",
       "zoom_in_text",
       "zoom_in_title",
       "zoom_out_text",
       "zoom_out_title"
      ],
      "position": "topleft",
      "zoom_in_text": "+",
      "zoom_in_title": "Zoom in",
      "zoom_out_text": "-",
      "zoom_out_title": "Zoom out"
     }
    },
    "50f5ad810ab24088a4aa0d7a6c3b72f6": {
     "model_module": "jupyter-leaflet",
     "model_module_version": "^0.17",
     "model_name": "LeafletWidgetControlModel",
     "state": {
      "_model_module": "jupyter-leaflet",
      "_model_module_version": "^0.17",
      "_model_name": "LeafletWidgetControlModel",
      "_view_count": null,
      "_view_module": "jupyter-leaflet",
      "_view_module_version": "^0.17",
      "_view_name": "LeafletWidgetControlView",
      "max_height": null,
      "max_width": null,
      "min_height": null,
      "min_width": null,
      "options": [
       "position",
       "transparent_bg"
      ],
      "position": "topright",
      "transparent_bg": false,
      "widget": "IPY_MODEL_57e5db41f9b34d4fb3aa640d0fc91b26"
     }
    },
    "57e5db41f9b34d4fb3aa640d0fc91b26": {
     "model_module": "@jupyter-widgets/controls",
     "model_module_version": "1.5.0",
     "model_name": "VBoxModel",
     "state": {
      "_dom_classes": [],
      "_model_module": "@jupyter-widgets/controls",
      "_model_module_version": "1.5.0",
      "_model_name": "VBoxModel",
      "_view_count": null,
      "_view_module": "@jupyter-widgets/controls",
      "_view_module_version": "1.5.0",
      "_view_name": "VBoxView",
      "box_style": "",
      "children": [
       "IPY_MODEL_cfc93a5646cd446f95f242db3e036881"
      ],
      "layout": "IPY_MODEL_5eff3a9b2d3d4ea0b93d04e2a13d5d82"
     }
    },
    "5881d01c39824298a2fa60d35c67fd5b": {
     "model_module": "jupyter-leaflet",
     "model_module_version": "^0.17",
     "model_name": "LeafletWidgetControlModel",
     "state": {
      "_model_module": "jupyter-leaflet",
      "_model_module_version": "^0.17",
      "_model_name": "LeafletWidgetControlModel",
      "_view_count": null,
      "_view_module": "jupyter-leaflet",
      "_view_module_version": "^0.17",
      "_view_name": "LeafletWidgetControlView",
      "max_height": null,
      "max_width": null,
      "min_height": null,
      "min_width": null,
      "options": [
       "position",
       "transparent_bg"
      ],
      "position": "topleft",
      "transparent_bg": false,
      "widget": "IPY_MODEL_c6b1b2f055a445c28f47154a1ffd0f5d"
     }
    },
    "5eff3a9b2d3d4ea0b93d04e2a13d5d82": {
     "model_module": "@jupyter-widgets/base",
     "model_module_version": "1.2.0",
     "model_name": "LayoutModel",
     "state": {
      "_model_module": "@jupyter-widgets/base",
      "_model_module_version": "1.2.0",
      "_model_name": "LayoutModel",
      "_view_count": null,
      "_view_module": "@jupyter-widgets/base",
      "_view_module_version": "1.2.0",
      "_view_name": "LayoutView",
      "align_content": null,
      "align_items": null,
      "align_self": null,
      "border": null,
      "bottom": null,
      "display": null,
      "flex": null,
      "flex_flow": null,
      "grid_area": null,
      "grid_auto_columns": null,
      "grid_auto_flow": null,
      "grid_auto_rows": null,
      "grid_column": null,
      "grid_gap": null,
      "grid_row": null,
      "grid_template_areas": null,
      "grid_template_columns": null,
      "grid_template_rows": null,
      "height": null,
      "justify_content": null,
      "justify_items": null,
      "left": null,
      "margin": null,
      "max_height": null,
      "max_width": null,
      "min_height": null,
      "min_width": null,
      "object_fit": null,
      "object_position": null,
      "order": null,
      "overflow": null,
      "overflow_x": null,
      "overflow_y": null,
      "padding": null,
      "right": null,
      "top": null,
      "visibility": null,
      "width": null
     }
    },
    "78b758c094c7475aab2d3a45aaaab4a3": {
     "model_module": "jupyter-leaflet",
     "model_module_version": "^0.17",
     "model_name": "LeafletTileLayerModel",
     "state": {
      "_model_module": "jupyter-leaflet",
      "_model_module_version": "^0.17",
      "_model_name": "LeafletTileLayerModel",
      "_view_count": null,
      "_view_module": "jupyter-leaflet",
      "_view_module_version": "^0.17",
      "_view_name": "LeafletTileLayerView",
      "attribution": "Google",
      "base": false,
      "bottom": true,
      "bounds": null,
      "detect_retina": false,
      "loading": false,
      "max_native_zoom": null,
      "max_zoom": 22,
      "min_native_zoom": null,
      "min_zoom": 0,
      "name": "Google Maps",
      "no_wrap": false,
      "opacity": 1,
      "options": [
       "attribution",
       "bounds",
       "detect_retina",
       "max_native_zoom",
       "max_zoom",
       "min_native_zoom",
       "min_zoom",
       "no_wrap",
       "tile_size",
       "tms",
       "zoom_offset"
      ],
      "pane": "",
      "popup": null,
      "popup_max_height": null,
      "popup_max_width": 300,
      "popup_min_width": 50,
      "show_loading": false,
      "subitems": [],
      "tile_size": 256,
      "tms": false,
      "url": "https://mt1.google.com/vt/lyrs=m&x={x}&y={y}&z={z}",
      "visible": true,
      "zoom_offset": 0
     }
    },
    "91a960182e92408693450e0a4b433141": {
     "model_module": "@jupyter-widgets/controls",
     "model_module_version": "1.5.0",
     "model_name": "DescriptionStyleModel",
     "state": {
      "_model_module": "@jupyter-widgets/controls",
      "_model_module_version": "1.5.0",
      "_model_name": "DescriptionStyleModel",
      "_view_count": null,
      "_view_module": "@jupyter-widgets/base",
      "_view_module_version": "1.2.0",
      "_view_name": "StyleView",
      "description_width": ""
     }
    },
    "923c0de069aa4e5c8abfed385abc889a": {
     "model_module": "jupyter-leaflet",
     "model_module_version": "^0.17",
     "model_name": "LeafletFullScreenControlModel",
     "state": {
      "_model_module": "jupyter-leaflet",
      "_model_module_version": "^0.17",
      "_model_name": "LeafletFullScreenControlModel",
      "_view_count": null,
      "_view_module": "jupyter-leaflet",
      "_view_module_version": "^0.17",
      "_view_name": "LeafletFullScreenControlView",
      "options": [
       "position"
      ],
      "position": "topleft"
     }
    },
    "b18a8ec1174a4b539602b041e60c5fd5": {
     "model_module": "@jupyter-widgets/base",
     "model_module_version": "1.2.0",
     "model_name": "LayoutModel",
     "state": {
      "_model_module": "@jupyter-widgets/base",
      "_model_module_version": "1.2.0",
      "_model_name": "LayoutModel",
      "_view_count": null,
      "_view_module": "@jupyter-widgets/base",
      "_view_module_version": "1.2.0",
      "_view_name": "LayoutView",
      "align_content": null,
      "align_items": null,
      "align_self": null,
      "border": null,
      "bottom": null,
      "display": null,
      "flex": null,
      "flex_flow": null,
      "grid_area": null,
      "grid_auto_columns": null,
      "grid_auto_flow": null,
      "grid_auto_rows": null,
      "grid_column": null,
      "grid_gap": null,
      "grid_row": null,
      "grid_template_areas": null,
      "grid_template_columns": null,
      "grid_template_rows": null,
      "height": "28px",
      "justify_content": null,
      "justify_items": null,
      "left": null,
      "margin": null,
      "max_height": null,
      "max_width": null,
      "min_height": null,
      "min_width": null,
      "object_fit": null,
      "object_position": null,
      "order": null,
      "overflow": null,
      "overflow_x": null,
      "overflow_y": null,
      "padding": "0px 0px 0px 4px",
      "right": null,
      "top": null,
      "visibility": null,
      "width": "28px"
     }
    },
    "b750f9e9c00645889c4224774a29a89d": {
     "model_module": "jupyter-leaflet",
     "model_module_version": "^0.17",
     "model_name": "LeafletScaleControlModel",
     "state": {
      "_model_module": "jupyter-leaflet",
      "_model_module_version": "^0.17",
      "_model_name": "LeafletScaleControlModel",
      "_view_count": null,
      "_view_module": "jupyter-leaflet",
      "_view_module_version": "^0.17",
      "_view_name": "LeafletScaleControlView",
      "imperial": true,
      "max_width": 100,
      "metric": true,
      "options": [
       "imperial",
       "max_width",
       "metric",
       "position",
       "update_when_idle"
      ],
      "position": "bottomleft",
      "update_when_idle": false
     }
    },
    "bba5d0d674f94ec0b1886e82b18e323d": {
     "model_module": "@jupyter-widgets/base",
     "model_module_version": "1.2.0",
     "model_name": "LayoutModel",
     "state": {
      "_model_module": "@jupyter-widgets/base",
      "_model_module_version": "1.2.0",
      "_model_name": "LayoutModel",
      "_view_count": null,
      "_view_module": "@jupyter-widgets/base",
      "_view_module_version": "1.2.0",
      "_view_name": "LayoutView",
      "align_content": null,
      "align_items": null,
      "align_self": null,
      "border": null,
      "bottom": null,
      "display": null,
      "flex": null,
      "flex_flow": null,
      "grid_area": null,
      "grid_auto_columns": null,
      "grid_auto_flow": null,
      "grid_auto_rows": null,
      "grid_column": null,
      "grid_gap": null,
      "grid_row": null,
      "grid_template_areas": null,
      "grid_template_columns": null,
      "grid_template_rows": null,
      "height": "28px",
      "justify_content": null,
      "justify_items": null,
      "left": null,
      "margin": null,
      "max_height": null,
      "max_width": null,
      "min_height": null,
      "min_width": null,
      "object_fit": null,
      "object_position": null,
      "order": null,
      "overflow": null,
      "overflow_x": null,
      "overflow_y": null,
      "padding": "0px 0px 0px 4px",
      "right": null,
      "top": null,
      "visibility": null,
      "width": "28px"
     }
    },
    "c610449c895f4b5a8e4009a9d6050f43": {
     "model_module": "jupyter-leaflet",
     "model_module_version": "^0.17",
     "model_name": "LeafletMapStyleModel",
     "state": {
      "_model_module": "jupyter-leaflet",
      "_model_module_version": "^0.17",
      "_model_name": "LeafletMapStyleModel",
      "_view_count": null,
      "_view_module": "@jupyter-widgets/base",
      "_view_module_version": "1.2.0",
      "_view_name": "StyleView",
      "cursor": "grab"
     }
    },
    "c6b1b2f055a445c28f47154a1ffd0f5d": {
     "model_module": "@jupyter-widgets/controls",
     "model_module_version": "1.5.0",
     "model_name": "HBoxModel",
     "state": {
      "_dom_classes": [],
      "_model_module": "@jupyter-widgets/controls",
      "_model_module_version": "1.5.0",
      "_model_name": "HBoxModel",
      "_view_count": null,
      "_view_module": "@jupyter-widgets/controls",
      "_view_module_version": "1.5.0",
      "_view_name": "HBoxView",
      "box_style": "",
      "children": [
       "IPY_MODEL_307f6d551b8f4c4a8055d305b9b0e9ff"
      ],
      "layout": "IPY_MODEL_dd94d67fc5d74011a985e70830558529"
     }
    },
    "cfc93a5646cd446f95f242db3e036881": {
     "model_module": "@jupyter-widgets/controls",
     "model_module_version": "1.5.0",
     "model_name": "ToggleButtonModel",
     "state": {
      "_dom_classes": [],
      "_model_module": "@jupyter-widgets/controls",
      "_model_module_version": "1.5.0",
      "_model_name": "ToggleButtonModel",
      "_view_count": null,
      "_view_module": "@jupyter-widgets/controls",
      "_view_module_version": "1.5.0",
      "_view_name": "ToggleButtonView",
      "button_style": "",
      "description": "",
      "description_tooltip": null,
      "disabled": false,
      "icon": "wrench",
      "layout": "IPY_MODEL_bba5d0d674f94ec0b1886e82b18e323d",
      "style": "IPY_MODEL_42dd8778b1d249e19b2ddb2cc1525b69",
      "tooltip": "Toolbar",
      "value": false
     }
    },
    "d29c37a16aba48719302a3c1d2afc93a": {
     "model_module": "jupyter-leaflet",
     "model_module_version": "^0.17",
     "model_name": "LeafletTileLayerModel",
     "state": {
      "_model_module": "jupyter-leaflet",
      "_model_module_version": "^0.17",
      "_model_name": "LeafletTileLayerModel",
      "_view_count": null,
      "_view_module": "jupyter-leaflet",
      "_view_module_version": "^0.17",
      "_view_name": "LeafletTileLayerView",
      "attribution": "Google Earth Engine",
      "base": false,
      "bottom": true,
      "bounds": null,
      "detect_retina": false,
      "loading": false,
      "max_native_zoom": null,
      "max_zoom": 24,
      "min_native_zoom": null,
      "min_zoom": 0,
      "name": "Slope",
      "no_wrap": false,
      "opacity": 1,
      "options": [
       "attribution",
       "bounds",
       "detect_retina",
       "max_native_zoom",
       "max_zoom",
       "min_native_zoom",
       "min_zoom",
       "no_wrap",
       "tile_size",
       "tms",
       "zoom_offset"
      ],
      "pane": "",
      "popup": null,
      "popup_max_height": null,
      "popup_max_width": 300,
      "popup_min_width": 50,
      "show_loading": false,
      "subitems": [],
      "tile_size": 256,
      "tms": false,
      "url": "https://earthengine.googleapis.com/v1alpha/projects/earthengine-legacy/maps/e89f4e22ae45dba2d6584b9cc11c5137-7a2381d30506c51e94f7ed151f999e08/tiles/{z}/{x}/{y}",
      "visible": true,
      "zoom_offset": 0
     }
    },
    "d5f0101a43164b608f55211f7f9b8441": {
     "model_module": "jupyter-leaflet",
     "model_module_version": "^0.17",
     "model_name": "LeafletMapModel",
     "state": {
      "_dom_classes": [],
      "_model_module": "jupyter-leaflet",
      "_model_module_version": "^0.17",
      "_model_name": "LeafletMapModel",
      "_view_count": null,
      "_view_module": "jupyter-leaflet",
      "_view_module_version": "^0.17",
      "_view_name": "LeafletMapView",
      "bottom": 91240,
      "bounce_at_zoom_limits": true,
      "box_zoom": true,
      "center": [
       48.16974908365419,
       -65.59249877929689
      ],
      "close_popup_on_click": true,
      "controls": [
       "IPY_MODEL_5881d01c39824298a2fa60d35c67fd5b",
       "IPY_MODEL_4983676c3f254ceb97baa52e361c7299",
       "IPY_MODEL_b750f9e9c00645889c4224774a29a89d",
       "IPY_MODEL_923c0de069aa4e5c8abfed385abc889a",
       "IPY_MODEL_1884392ad7d74f77b22bd3afee8f25ee",
       "IPY_MODEL_42a2a539a70047e0ae324ef91b79ad44",
       "IPY_MODEL_f4ba9d69d03643218c55a9090cb7bc02",
       "IPY_MODEL_50f5ad810ab24088a4aa0d7a6c3b72f6"
      ],
      "crs": {
       "custom": false,
       "name": "EPSG3857"
      },
      "default_style": "IPY_MODEL_c610449c895f4b5a8e4009a9d6050f43",
      "double_click_zoom": true,
      "dragging": true,
      "dragging_style": "IPY_MODEL_16db167e511e47d0a54c3e23eb6ef929",
      "east": -64.71359252929689,
      "fullscreen": false,
      "inertia": true,
      "inertia_deceleration": 3000,
      "inertia_max_speed": 1500,
      "interpolation": "bilinear",
      "keyboard": true,
      "keyboard_pan_offset": 80,
      "keyboard_zoom_offset": 1,
      "layers": [
       "IPY_MODEL_10ca6f9780864c96b071f7ea85bcf24c",
       "IPY_MODEL_78b758c094c7475aab2d3a45aaaab4a3",
       "IPY_MODEL_1beb5c098f664ab2a5b411b5836c6bed",
       "IPY_MODEL_d29c37a16aba48719302a3c1d2afc93a",
       "IPY_MODEL_de6d7ad177c74d33b585d5b3b89033db"
      ],
      "layout": "IPY_MODEL_1aafd0ead93e464b891465a8402ad980",
      "left": 82669,
      "max_zoom": 24,
      "min_zoom": null,
      "modisdate": "2023-02-25",
      "north": 48.44377831058805,
      "options": [
       "bounce_at_zoom_limits",
       "box_zoom",
       "center",
       "close_popup_on_click",
       "double_click_zoom",
       "dragging",
       "fullscreen",
       "inertia",
       "inertia_deceleration",
       "inertia_max_speed",
       "interpolation",
       "keyboard",
       "keyboard_pan_offset",
       "keyboard_zoom_offset",
       "max_zoom",
       "min_zoom",
       "prefer_canvas",
       "scroll_wheel_zoom",
       "tap",
       "tap_tolerance",
       "touch_zoom",
       "world_copy_jump",
       "zoom",
       "zoom_animation_threshold",
       "zoom_delta",
       "zoom_snap"
      ],
      "panes": {},
      "prefer_canvas": false,
      "right": 83949,
      "scroll_wheel_zoom": true,
      "south": 47.89424772020999,
      "style": "IPY_MODEL_c610449c895f4b5a8e4009a9d6050f43",
      "tap": true,
      "tap_tolerance": 15,
      "top": 90640,
      "touch_zoom": true,
      "west": -66.47140502929689,
      "window_url": "https://f0cowfpanwr-496ff2e9c6d22116-0-colab.googleusercontent.com/outputframe.html?vrz=colab-20230223-060147-RC00_511737765",
      "world_copy_jump": false,
      "zoom": 10,
      "zoom_animation_threshold": 4,
      "zoom_delta": 1,
      "zoom_snap": 1
     }
    },
    "dd94d67fc5d74011a985e70830558529": {
     "model_module": "@jupyter-widgets/base",
     "model_module_version": "1.2.0",
     "model_name": "LayoutModel",
     "state": {
      "_model_module": "@jupyter-widgets/base",
      "_model_module_version": "1.2.0",
      "_model_name": "LayoutModel",
      "_view_count": null,
      "_view_module": "@jupyter-widgets/base",
      "_view_module_version": "1.2.0",
      "_view_name": "LayoutView",
      "align_content": null,
      "align_items": null,
      "align_self": null,
      "border": null,
      "bottom": null,
      "display": null,
      "flex": null,
      "flex_flow": null,
      "grid_area": null,
      "grid_auto_columns": null,
      "grid_auto_flow": null,
      "grid_auto_rows": null,
      "grid_column": null,
      "grid_gap": null,
      "grid_row": null,
      "grid_template_areas": null,
      "grid_template_columns": null,
      "grid_template_rows": null,
      "height": null,
      "justify_content": null,
      "justify_items": null,
      "left": null,
      "margin": null,
      "max_height": null,
      "max_width": null,
      "min_height": null,
      "min_width": null,
      "object_fit": null,
      "object_position": null,
      "order": null,
      "overflow": null,
      "overflow_x": null,
      "overflow_y": null,
      "padding": null,
      "right": null,
      "top": null,
      "visibility": null,
      "width": null
     }
    },
    "de6d7ad177c74d33b585d5b3b89033db": {
     "model_module": "jupyter-leaflet",
     "model_module_version": "^0.17",
     "model_name": "LeafletTileLayerModel",
     "state": {
      "_model_module": "jupyter-leaflet",
      "_model_module_version": "^0.17",
      "_model_name": "LeafletTileLayerModel",
      "_view_count": null,
      "_view_module": "jupyter-leaflet",
      "_view_module_version": "^0.17",
      "_view_name": "LeafletTileLayerView",
      "attribution": "Google Earth Engine",
      "base": false,
      "bottom": true,
      "bounds": null,
      "detect_retina": false,
      "loading": false,
      "max_native_zoom": null,
      "max_zoom": 24,
      "min_native_zoom": null,
      "min_zoom": 0,
      "name": "Landcover",
      "no_wrap": false,
      "opacity": 1,
      "options": [
       "attribution",
       "bounds",
       "detect_retina",
       "max_native_zoom",
       "max_zoom",
       "min_native_zoom",
       "min_zoom",
       "no_wrap",
       "tile_size",
       "tms",
       "zoom_offset"
      ],
      "pane": "",
      "popup": null,
      "popup_max_height": null,
      "popup_max_width": 300,
      "popup_min_width": 50,
      "show_loading": false,
      "subitems": [],
      "tile_size": 256,
      "tms": false,
      "url": "https://earthengine.googleapis.com/v1alpha/projects/earthengine-legacy/maps/10c28fbfd15570a9e83dc07e44bbd78f-f796080c7a745d3bd17fe907809c63eb/tiles/{z}/{x}/{y}",
      "visible": true,
      "zoom_offset": 0
     }
    },
    "ec250e271ee442e69f89b424ea546e3d": {
     "model_module": "jupyter-leaflet",
     "model_module_version": "^0.17",
     "model_name": "LeafletMapStyleModel",
     "state": {
      "_model_module": "jupyter-leaflet",
      "_model_module_version": "^0.17",
      "_model_name": "LeafletMapStyleModel",
      "_view_count": null,
      "_view_module": "@jupyter-widgets/base",
      "_view_module_version": "1.2.0",
      "_view_name": "StyleView",
      "cursor": "grab"
     }
    },
    "f4ba9d69d03643218c55a9090cb7bc02": {
     "model_module": "jupyter-leaflet",
     "model_module_version": "^0.17",
     "model_name": "LeafletDrawControlModel",
     "state": {
      "_model_module": "jupyter-leaflet",
      "_model_module_version": "^0.17",
      "_model_name": "LeafletDrawControlModel",
      "_view_count": null,
      "_view_module": "jupyter-leaflet",
      "_view_module_version": "^0.17",
      "_view_name": "LeafletDrawControlView",
      "circle": {
       "shapeOptions": {
        "color": "#3388ff"
       }
      },
      "circlemarker": {},
      "data": [],
      "edit": true,
      "marker": {
       "shapeOptions": {
        "color": "#3388ff"
       }
      },
      "options": [
       "position"
      ],
      "polygon": {
       "shapeOptions": {}
      },
      "polyline": {
       "shapeOptions": {}
      },
      "position": "topleft",
      "rectangle": {
       "shapeOptions": {
        "color": "#3388ff"
       }
      },
      "remove": true
     }
    }
   }
  }
 },
 "nbformat": 4,
 "nbformat_minor": 4
}
